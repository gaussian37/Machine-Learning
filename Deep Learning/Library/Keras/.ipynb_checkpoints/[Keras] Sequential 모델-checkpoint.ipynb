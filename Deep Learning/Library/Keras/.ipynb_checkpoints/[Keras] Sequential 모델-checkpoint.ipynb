{
 "cells": [
  {
   "cell_type": "markdown",
   "metadata": {},
   "source": [
    "# Keras Sequential\n",
    "### ADD → COMPILE → FIT\n",
    "계층 별 인스턴스 리스트를 생성자에 전달하여 Sequential 모델을 만들 수 있습니다."
   ]
  },
  {
   "cell_type": "code",
   "execution_count": 2,
   "metadata": {
    "ExecuteTime": {
     "end_time": "2018-01-20T16:50:54.599320Z",
     "start_time": "2018-01-20T16:50:52.439496Z"
    }
   },
   "outputs": [
    {
     "name": "stderr",
     "output_type": "stream",
     "text": [
      "C:\\Users\\infoe\\Anaconda3\\lib\\site-packages\\h5py\\__init__.py:36: FutureWarning: Conversion of the second argument of issubdtype from `float` to `np.floating` is deprecated. In future, it will be treated as `np.float64 == np.dtype(float).type`.\n",
      "  from ._conv import register_converters as _register_converters\n",
      "Using TensorFlow backend.\n"
     ]
    }
   ],
   "source": [
    "import keras\n",
    "from keras.models import Sequential\n",
    "from keras.layers import Activation, Dense\n",
    "\n",
    "model = Sequential([\n",
    "    Dense(32, input_shape=(784,)), Activation('relu'), Dense(10), Activation('softmax')\n",
    "])"
   ]
  },
  {
   "cell_type": "markdown",
   "metadata": {},
   "source": [
    ".add() 메소드를 이용하면 Sequential의 내용을 Layer 별로 분리해서 사용할 수 있습니다."
   ]
  },
  {
   "cell_type": "code",
   "execution_count": 3,
   "metadata": {
    "ExecuteTime": {
     "end_time": "2018-01-20T16:50:54.625370Z",
     "start_time": "2018-01-20T16:50:54.607322Z"
    }
   },
   "outputs": [],
   "source": [
    "model1 = Sequential()\n",
    "model1.add(Dense(32, input_dim = 784))\n",
    "model1.add(Activation('relu'))"
   ]
  },
  {
   "cell_type": "markdown",
   "metadata": {},
   "source": [
    "## 입력 형태 지정\n",
    "\n",
    "model은 어떤 형태의 입력이 들어올지 알아야 합니다. 따라서 Sequential 모델의 첫 번째 계층<span class=\"mark\">(이후 계층은 자동으로 모양을 추론할 수 있으므로 첫 번째 계층만 해당)</span>에 입력 형태에 대한 정보를 제공해야 합니다.\n",
    "\n",
    "- 첫 번째 계층에 input_shape 인수를 전달합니다. 이것은 입력의 <span class=\"mark\">shape 정보를 담은 튜플</span>입니다. input_shape은 정수/None을 항목으로 가지고 None은 임의의 양의 정수를 나타냅니다. input_shape에 batch 차원은 포함되지 않습니다.\n",
    "\n",
    "- Dense와 같은 일부 <span class=\"mark\">2차원 계층은 input_dim 인수를 통해 입력 형태를 지정</span>할 수 있으며, 일부 3차원 시간 계층(temporal layers)는 input_dim과 input_length 인수를 지원합니다.\n",
    "\n",
    "- 입력에 대해 <span class=\"mark\">고정된 batch 크기를 지정하려는 경우 계층에 batch_size 인수를 전달</span>할 수 있습니다. batch_size = 32와 input_shape = (6, 8)을 한 계층에 같이 전달하면 모든 입력 batch가 (32, 6, 8)의 형태를 가질 것으로 기대합니다.\n",
    "\n",
    "<br>\n",
    "다음 두 model1 코드는 완전히 같은 코드 입니다."
   ]
  },
  {
   "cell_type": "code",
   "execution_count": 4,
   "metadata": {
    "ExecuteTime": {
     "end_time": "2018-01-20T16:50:54.663498Z",
     "start_time": "2018-01-20T16:50:54.633391Z"
    }
   },
   "outputs": [],
   "source": [
    "model1.add(Dense(32, input_shape = (784, None)))\n",
    "model1.add(Dense(32, input_dim = 784))"
   ]
  },
  {
   "cell_type": "markdown",
   "metadata": {},
   "source": [
    "## 컴파일\n",
    "\n",
    "모델을 학습하기 전에 compile 메소드를 통해 학습 과정을 구성해야 합니다. 이 메소드는 세 가지 인수를 받아들입니다.\n",
    "\n",
    "- <span class=\"mark\">Optimizer</span>. 기본 제공되는 (rmsprop 또는 adagrad 등)를 나타내는 문자열 식별자, 또는 Optimizer 클래스의 인스턴스가 될 수 있습니다.\n",
    "\n",
    "- <span class=\"mark\">loss function</span>. 이것은 모델이 최소화하려고 하는 대상입니다. 기본 제공되는 손실 함수의 문자열 식별자(categorical_crossentropy 또는 mse 등)일 수도 있고 목표 함수 자체일 수도 있습니다. \n",
    "\n",
    "- <span class=\"mark\">Metric의 리스트</span>. 분류(classification) 문제를 풀고자 하는 경우 metrics = ['accuracy']로 설정하는 것이 좋습니다. 메트릭은 기본 제공되는 메트릭 또는 사용자 정의 메트릭 함수의 문자열 식별자가 될 수 있습니다."
   ]
  },
  {
   "cell_type": "code",
   "execution_count": 5,
   "metadata": {
    "ExecuteTime": {
     "end_time": "2018-01-20T16:50:54.793852Z",
     "start_time": "2018-01-20T16:50:54.670490Z"
    }
   },
   "outputs": [],
   "source": [
    "# For a multi-class classification problem\n",
    "model.compile(optimizer='rmsprop', \n",
    "              loss='categorical_crossentropy', \n",
    "              metrics=['accuracy'])\n",
    "\n",
    "# For a binary classification problem\n",
    "model.compile(optimizer='rmsprop',\n",
    "              loss='binary_crossentropy',\n",
    "              metrics=['accuracy'])\n",
    "\n",
    "# For a mean squared error regression problem\n",
    "model.compile(optimizer='rmsprop',\n",
    "              loss='mse')\n",
    "\n",
    "# For custom metrics\n",
    "import keras.backend as K\n",
    "def mean_pred(y_true, y_pred):\n",
    "    return K.mean(y_pred)\n",
    "\n",
    "# For custom metrics\n",
    "model.compile(optimizer='rmsprop',\n",
    "              loss='binary_crossentropy',\n",
    "              metrics=['accuracy', mean_pred])"
   ]
  },
  {
   "cell_type": "markdown",
   "metadata": {},
   "source": [
    "## Train\n",
    "\n",
    "Keras 모델은 Numpy 배열로 이루어진 입력 데이터 및 레이블을 기반으로 훈련합니다. 모델을 훈련할 때는 일반적으로 <span class=\"mark\">fit</span> 함수를 사용합니다. "
   ]
  },
  {
   "cell_type": "code",
   "execution_count": 6,
   "metadata": {
    "ExecuteTime": {
     "end_time": "2018-01-20T16:51:02.320941Z",
     "start_time": "2018-01-20T16:50:58.220906Z"
    }
   },
   "outputs": [
    {
     "name": "stdout",
     "output_type": "stream",
     "text": [
      "Epoch 1/10\n",
      "1000/1000 [==============================] - 3s 3ms/step - loss: 0.7070 - acc: 0.4880\n",
      "Epoch 2/10\n",
      "1000/1000 [==============================] - 0s 91us/step - loss: 0.6969 - acc: 0.5150\n",
      "Epoch 3/10\n",
      "1000/1000 [==============================] - 0s 92us/step - loss: 0.6919 - acc: 0.5210\n",
      "Epoch 4/10\n",
      "1000/1000 [==============================] - 0s 88us/step - loss: 0.6861 - acc: 0.5270\n",
      "Epoch 5/10\n",
      "1000/1000 [==============================] - 0s 90us/step - loss: 0.6840 - acc: 0.5580\n",
      "Epoch 6/10\n",
      "1000/1000 [==============================] - 0s 84us/step - loss: 0.6804 - acc: 0.5530\n",
      "Epoch 7/10\n",
      "1000/1000 [==============================] - 0s 86us/step - loss: 0.6759 - acc: 0.5590\n",
      "Epoch 8/10\n",
      "1000/1000 [==============================] - 0s 94us/step - loss: 0.6721 - acc: 0.5740\n",
      "Epoch 9/10\n",
      "1000/1000 [==============================] - 0s 86us/step - loss: 0.6686 - acc: 0.5790\n",
      "Epoch 10/10\n",
      "1000/1000 [==============================] - 0s 94us/step - loss: 0.6655 - acc: 0.6000\n"
     ]
    },
    {
     "data": {
      "text/plain": [
       "<keras.callbacks.History at 0x16614a13438>"
      ]
     },
     "execution_count": 6,
     "metadata": {},
     "output_type": "execute_result"
    }
   ],
   "source": [
    "# For a single-input model with 2 classes (binary classification) :\n",
    "\n",
    "model = Sequential()\n",
    "model.add(Dense(32, activation = 'relu', input_dim = 100))\n",
    "model.add(Dense(1, activation = 'sigmoid'))\n",
    "model.compile(optimizer = 'rmsprop', loss = 'binary_crossentropy', metrics = ['accuracy'])\n",
    "\n",
    "# Generate dummy rate\n",
    "import numpy as np\n",
    "data = np.random.random((1000, 100))\n",
    "labels = np.random.randint(2, size=(1000, 1))\n",
    "\n",
    "# Train the model, iterating on the data in batches of 32 samples\n",
    "model.fit(data, labels, epochs=10, batch_size=32)"
   ]
  },
  {
   "cell_type": "code",
   "execution_count": 25,
   "metadata": {
    "ExecuteTime": {
     "end_time": "2018-01-18T22:53:58.165212Z",
     "start_time": "2018-01-18T22:53:56.547239Z"
    }
   },
   "outputs": [
    {
     "name": "stdout",
     "output_type": "stream",
     "text": [
      "Epoch 1/10\n",
      "1000/1000 [==============================] - 0s 381us/step - loss: 2.3623 - acc: 0.0970\n",
      "Epoch 2/10\n",
      "1000/1000 [==============================] - 0s 94us/step - loss: 2.3138 - acc: 0.0980\n",
      "Epoch 3/10\n",
      "1000/1000 [==============================] - 0s 116us/step - loss: 2.3010 - acc: 0.1150\n",
      "Epoch 4/10\n",
      "1000/1000 [==============================] - 0s 105us/step - loss: 2.2929 - acc: 0.1190\n",
      "Epoch 5/10\n",
      "1000/1000 [==============================] - 0s 194us/step - loss: 2.2849 - acc: 0.1290\n",
      "Epoch 6/10\n",
      "1000/1000 [==============================] - 0s 99us/step - loss: 2.2751 - acc: 0.1430\n",
      "Epoch 7/10\n",
      "1000/1000 [==============================] - 0s 91us/step - loss: 2.2695 - acc: 0.1540\n",
      "Epoch 8/10\n",
      "1000/1000 [==============================] - 0s 100us/step - loss: 2.2621 - acc: 0.1500\n",
      "Epoch 9/10\n",
      "1000/1000 [==============================] - 0s 99us/step - loss: 2.2547 - acc: 0.1660\n",
      "Epoch 10/10\n",
      "1000/1000 [==============================] - 0s 101us/step - loss: 2.2450 - acc: 0.1690\n"
     ]
    },
    {
     "data": {
      "text/plain": [
       "<keras.callbacks.History at 0x181e4ac0f28>"
      ]
     },
     "execution_count": 25,
     "metadata": {},
     "output_type": "execute_result"
    }
   ],
   "source": [
    "# For a single-input model with 10 classes (categorical classification):\n",
    "model = Sequential()\n",
    "model.add(Dense(32, activation = 'relu', input_dim = 100))\n",
    "model.add(Dense(10, activation = 'softmax'))\n",
    "model.compile(optimizer='rmsprop', \n",
    "              loss = 'categorical_crossentropy', \n",
    "              metrics = ['accuracy'])\n",
    "\n",
    "# Generate dummy rate\n",
    "import numpy as np\n",
    "data = np.random.random((1000, 100))\n",
    "labels = np.random.randint(10, size = (1000, 1))\n",
    "\n",
    "# Convert labels to categorical one-hot encoding\n",
    "one_hot_labels = keras.utils.to_categorical(labels, num_classes = 10)\n",
    "\n",
    "# Train the model, iterating on the data in batches of 32 samples\n",
    "model.fit(data, one_hot_labels, epochs=10, batch_size=32)\n"
   ]
  },
  {
   "cell_type": "code",
   "execution_count": null,
   "metadata": {},
   "outputs": [],
   "source": []
  }
 ],
 "metadata": {
  "anaconda-cloud": {},
  "kernelspec": {
   "display_name": "Python [conda root]",
   "language": "python",
   "name": "conda-root-py"
  },
  "language_info": {
   "codemirror_mode": {
    "name": "ipython",
    "version": 3
   },
   "file_extension": ".py",
   "mimetype": "text/x-python",
   "name": "python",
   "nbconvert_exporter": "python",
   "pygments_lexer": "ipython3",
   "version": "3.5.2"
  },
  "varInspector": {
   "cols": {
    "lenName": 16,
    "lenType": 16,
    "lenVar": 40
   },
   "kernels_config": {
    "python": {
     "delete_cmd_postfix": "",
     "delete_cmd_prefix": "del ",
     "library": "var_list.py",
     "varRefreshCmd": "print(var_dic_list())"
    },
    "r": {
     "delete_cmd_postfix": ") ",
     "delete_cmd_prefix": "rm(",
     "library": "var_list.r",
     "varRefreshCmd": "cat(var_dic_list()) "
    }
   },
   "oldHeight": 161.666666,
   "position": {
    "height": "40px",
    "left": "595px",
    "right": "20px",
    "top": "141px",
    "width": "521px"
   },
   "types_to_exclude": [
    "module",
    "function",
    "builtin_function_or_method",
    "instance",
    "_Feature"
   ],
   "varInspector_section_display": "none",
   "window_display": false
  }
 },
 "nbformat": 4,
 "nbformat_minor": 1
}
