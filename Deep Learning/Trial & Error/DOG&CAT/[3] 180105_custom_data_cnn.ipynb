{
 "cells": [
  {
   "cell_type": "markdown",
   "metadata": {},
   "source": [
    "# <font color='red'>Convolutional Neural Network </font>\n",
    "- 작성자 : [Gauss Kim](https://github.com/gaussian37)<br>\n",
    "- 목적 : CNN의 다양한 model을 Custom Data에 맞게 사용할 수 있도록 지원<br>"
   ]
  },
  {
   "cell_type": "code",
   "execution_count": 1,
   "metadata": {
    "ExecuteTime": {
     "end_time": "2018-01-05T23:52:34.456898Z",
     "start_time": "2018-01-05T23:52:25.913703Z"
    }
   },
   "outputs": [],
   "source": [
    "import os\n",
    "import numpy as np\n",
    "from scipy.misc import imread, imresize, imshow\n",
    "import tensorflow as tf\n",
    "import matplotlib.pyplot as plt\n",
    "import random\n",
    "import LR_OPT"
   ]
  },
  {
   "cell_type": "markdown",
   "metadata": {},
   "source": [
    "#  <font color='blue'>Hyper parameter</font>#"
   ]
  },
  {
   "cell_type": "markdown",
   "metadata": {},
   "source": [
    "### - Image 사이즈 및 갯수 ###\n",
    "- resize할 image의 height와 width에 관한 hyper parameter\n",
    "- 이미지 갯수"
   ]
  },
  {
   "cell_type": "code",
   "execution_count": 2,
   "metadata": {
    "ExecuteTime": {
     "end_time": "2018-01-05T23:52:34.460817Z",
     "start_time": "2018-01-05T23:52:34.457808Z"
    }
   },
   "outputs": [],
   "source": [
    "img_height = 64 # 이미지 height 크기\n",
    "img_width = 64 # 이미지 width 크기\n",
    "n_train = 30324 # train 이미지 갯수\n",
    "n_val = 7582# val 이미지 갯수\n",
    "n_test = 9477 # test 이미지 갯수\n",
    "n_class = 2 # class(카테고리) 갯수\n",
    "is_preproc = True # Input normalization 사용 여부"
   ]
  },
  {
   "cell_type": "markdown",
   "metadata": {},
   "source": [
    "### - random seed ###\n",
    "랜덤 변수 시드 설정"
   ]
  },
  {
   "cell_type": "code",
   "execution_count": 3,
   "metadata": {
    "ExecuteTime": {
     "end_time": "2018-01-05T23:52:34.474396Z",
     "start_time": "2018-01-05T23:52:34.461819Z"
    }
   },
   "outputs": [],
   "source": [
    "seed = 777\n",
    "tf.set_random_seed(seed)"
   ]
  },
  {
   "cell_type": "markdown",
   "metadata": {},
   "source": [
    "### - Learning rate 초깃값 ###\n",
    "Back propagation 시 parameter update에 사용"
   ]
  },
  {
   "cell_type": "code",
   "execution_count": 4,
   "metadata": {
    "ExecuteTime": {
     "end_time": "2018-01-05T23:52:34.481371Z",
     "start_time": "2018-01-05T23:52:34.475379Z"
    }
   },
   "outputs": [],
   "source": [
    "learning_rate = 0.01\n",
    "\n",
    "stepsize = 10\n",
    "base_lr = 0.001\n",
    "max_lr = 0.01"
   ]
  },
  {
   "cell_type": "markdown",
   "metadata": {},
   "source": [
    "### - Training Epoch ###"
   ]
  },
  {
   "cell_type": "code",
   "execution_count": 5,
   "metadata": {
    "ExecuteTime": {
     "end_time": "2018-01-05T23:52:34.489920Z",
     "start_time": "2018-01-05T23:52:34.482374Z"
    }
   },
   "outputs": [],
   "source": [
    "training_epochs = 30"
   ]
  },
  {
   "cell_type": "markdown",
   "metadata": {},
   "source": [
    "### - batch 사이즈 ###"
   ]
  },
  {
   "cell_type": "code",
   "execution_count": 6,
   "metadata": {
    "ExecuteTime": {
     "end_time": "2018-01-05T23:52:34.502970Z",
     "start_time": "2018-01-05T23:52:34.490896Z"
    }
   },
   "outputs": [],
   "source": [
    "batch_size = 32"
   ]
  },
  {
   "cell_type": "markdown",
   "metadata": {},
   "source": [
    "# <font color='blue'>TFRecord 읽어 오기</font> #"
   ]
  },
  {
   "cell_type": "markdown",
   "metadata": {},
   "source": [
    "### - tfrecord 파일명 및 경로 설정 ###"
   ]
  },
  {
   "cell_type": "code",
   "execution_count": 7,
   "metadata": {
    "ExecuteTime": {
     "end_time": "2018-01-05T23:52:34.514483Z",
     "start_time": "2018-01-05T23:52:34.503931Z"
    }
   },
   "outputs": [],
   "source": [
    "tfrecord_train = 'train.tfrecord' # train 데이터 tfrecord\n",
    "tfrecord_val = 'val.tfrecord' # validation 데이터 tfrecord\n",
    "tfrecord_test = 'test.tfrecord' # test 데이터 tfrecord\n",
    "tfrecord_dir = 'tfrecords' # tfrecord 폴더"
   ]
  },
  {
   "cell_type": "markdown",
   "metadata": {},
   "source": [
    "### - 이미지와 라벨 읽기 함수 생성 ###"
   ]
  },
  {
   "cell_type": "code",
   "execution_count": 8,
   "metadata": {
    "ExecuteTime": {
     "end_time": "2018-01-05T23:52:34.522507Z",
     "start_time": "2018-01-05T23:52:34.515463Z"
    }
   },
   "outputs": [],
   "source": [
    "# 이미지와 라벨 읽어오기\n",
    "def read_and_decode(filename_queue, n_batch):    \n",
    "    reader = tf.TFRecordReader()\n",
    "    _, serialized_example = reader.read(filename_queue)\n",
    "    \n",
    "    features = tf.parse_single_example(\n",
    "        serialized_example,\n",
    "        features={            \n",
    "            'image': tf.FixedLenFeature([], tf.string),\n",
    "            'label': tf.FixedLenFeature([], tf.int64)\n",
    "        })    \n",
    "    # Convert from a scalar string tensor\n",
    "    image = tf.decode_raw(features['image'], tf.uint8)        \n",
    "    label = tf.cast(features['label'], tf.int32)\n",
    "    label_onehot = tf.one_hot(label, depth=n_class)\n",
    "    \n",
    "    image = tf.reshape(image, [img_height, img_width, 3])    \n",
    "    \n",
    "    images, labels = tf.train.batch([image, label_onehot],\n",
    "                                           batch_size=n_batch,\n",
    "                                           capacity=10000,\n",
    "                                           num_threads=4)    \n",
    "    return images, labels "
   ]
  },
  {
   "cell_type": "markdown",
   "metadata": {},
   "source": [
    "### - image, label 파일 인풋 생성"
   ]
  },
  {
   "cell_type": "code",
   "execution_count": 9,
   "metadata": {
    "ExecuteTime": {
     "end_time": "2018-01-05T23:52:34.637287Z",
     "start_time": "2018-01-05T23:52:34.523009Z"
    }
   },
   "outputs": [],
   "source": [
    "# **** File input ***\n",
    "cwd = os.getcwd()\n",
    "train_path = os.path.join(cwd, tfrecord_dir, tfrecord_train)\n",
    "val_path = os.path.join(cwd, tfrecord_dir, tfrecord_val)\n",
    "test_path = os.path.join(cwd, tfrecord_dir, tfrecord_test)\n",
    "\n",
    "filename_queue_train = tf.train.string_input_producer([train_path], num_epochs=training_epochs)\n",
    "image_batch, label_batch = read_and_decode(filename_queue_train, batch_size)\n",
    "\n",
    "filename_queue_val = tf.train.string_input_producer([val_path], num_epochs=training_epochs)\n",
    "image_val, label_val = read_and_decode(filename_queue_val, batch_size)\n",
    "\n",
    "filename_queue_test = tf.train.string_input_producer([test_path], num_epochs=1)\n",
    "image_test, label_test = read_and_decode(filename_queue_test, n_test)"
   ]
  },
  {
   "cell_type": "markdown",
   "metadata": {},
   "source": [
    "# <font color='blue'>Function for Optimizing Neural Network</font>"
   ]
  },
  {
   "cell_type": "code",
   "execution_count": 10,
   "metadata": {
    "ExecuteTime": {
     "end_time": "2018-01-05T23:52:34.640796Z",
     "start_time": "2018-01-05T23:52:34.638304Z"
    }
   },
   "outputs": [],
   "source": [
    "# 입력값 normalization : 이미지의 평균값 만큼 전체 이미지 값 감소\n",
    "def preproc(x):    \n",
    "    mean = tf.reduce_mean(x, axis=1, keep_dims=True)\n",
    "    return x - mean"
   ]
  },
  {
   "cell_type": "markdown",
   "metadata": {},
   "source": [
    "# <span style=\"background-color: #FFFF00\"> <font color='red'>ResNet</font></span> #"
   ]
  },
  {
   "cell_type": "markdown",
   "metadata": {},
   "source": [
    "### Hyper parameter ###"
   ]
  },
  {
   "cell_type": "code",
   "execution_count": 11,
   "metadata": {
    "ExecuteTime": {
     "end_time": "2018-01-05T23:52:34.654861Z",
     "start_time": "2018-01-05T23:52:34.641798Z"
    }
   },
   "outputs": [],
   "source": [
    "number_of_resblk = 4\n",
    "number_of_layer = 3"
   ]
  },
  {
   "cell_type": "code",
   "execution_count": 12,
   "metadata": {
    "ExecuteTime": {
     "end_time": "2018-01-05T23:52:34.662881Z",
     "start_time": "2018-01-05T23:52:34.655359Z"
    }
   },
   "outputs": [],
   "source": [
    "def conv_bn_activ(name, x, n_filters, kernel_size, strides, training, seed, padding='SAME'):\n",
    "    with tf.variable_scope(name):\n",
    "        net = tf.layers.conv2d(x, n_filters, kernel_size, strides=strides, padding=padding, use_bias=False, kernel_initializer=tf.contrib.layers.variance_scaling_initializer(seed=seed))\n",
    "        net = tf.layers.batch_normalization(net, training=training)\n",
    "        net = tf.nn.relu(net)\n",
    "    return net"
   ]
  },
  {
   "cell_type": "code",
   "execution_count": 13,
   "metadata": {
    "ExecuteTime": {
     "end_time": "2018-01-05T23:52:34.672398Z",
     "start_time": "2018-01-05T23:52:34.663857Z"
    }
   },
   "outputs": [],
   "source": [
    "def residual_block(name, x, n_filters, training, seed, downsample=False):    \n",
    "    if downsample:\n",
    "        strides = 2\n",
    "    else:\n",
    "        strides = 1\n",
    "    with tf.variable_scope(name):\n",
    "        net1 = conv_bn_activ(\"inner_conv1\",x, n_filters, [3, 3], strides, training, seed)\n",
    "        net2 = conv_bn_activ(\"inner_conv2\",x, n_filters, [3, 3], strides, training, seed)\n",
    "        \n",
    "        if downsample:\n",
    "            x = tf.layers.conv2d(x, n_filters, [1, 1], strides=2, padding='SAME',kernel_initializer=tf.contrib.layers.variance_scaling_initializer(seed=seed))\n",
    "        return tf.nn.relu(net2 + x)"
   ]
  },
  {
   "cell_type": "code",
   "execution_count": 14,
   "metadata": {
    "ExecuteTime": {
     "end_time": "2018-01-05T23:52:34.683937Z",
     "start_time": "2018-01-05T23:52:34.673382Z"
    }
   },
   "outputs": [],
   "source": [
    "def build_resnet(X_img, resblk_n, layer_n, n_filters, training, seed):\n",
    "    net = X_img    \n",
    "    with tf.variable_scope(\"CONV0\"):\n",
    "        net = conv_bn_activ(\"pre_conv\", net, n_filters, [3, 3], 1, training, seed)\n",
    "        print(net)\n",
    "    \n",
    "    # 블락 생성\n",
    "    for i in range(resblk_n):\n",
    "        with tf.variable_scope(\"CONV\"+str(i+1)):\n",
    "            for j in range(layer_n):                \n",
    "                net = residual_block(\"resblk{}\".format(j), net, n_filters, training, seed, (j==0))\n",
    "                print(net)\n",
    "            n_filters *= 2\n",
    "            \n",
    "    with tf.variable_scope(\"GAP\"):        \n",
    "        pool_height, pool_width = net.shape[1:3]        \n",
    "        net = tf.layers.average_pooling2d(name=\"gap\", inputs=net, pool_size=[pool_height, pool_width], strides=1, padding='VALID')\n",
    "        print(net)\n",
    "        \n",
    "    with tf.variable_scope(\"FC\"):\n",
    "        logits = tf.layers.dense(net, n_class, name=\"logits\", kernel_initializer=tf.contrib.layers.variance_scaling_initializer(seed=seed))\n",
    "        logits = tf.reshape(logits, [-1, n_class]) # (?, 1, 1, n_class) → (?, n_class)\n",
    "        print(logits)\n",
    "    return logits"
   ]
  },
  {
   "cell_type": "markdown",
   "metadata": {},
   "source": [
    "# <font color='blue'>Neural Network Design</font>#"
   ]
  },
  {
   "cell_type": "markdown",
   "metadata": {},
   "source": [
    "### - Input Design ###"
   ]
  },
  {
   "cell_type": "code",
   "execution_count": 15,
   "metadata": {
    "ExecuteTime": {
     "end_time": "2018-01-05T23:52:34.696470Z",
     "start_time": "2018-01-05T23:52:34.684913Z"
    }
   },
   "outputs": [],
   "source": [
    "X = tf.placeholder(tf.float32, [None, img_height, img_width, 3], name=\"X\")\n",
    "Y = tf.placeholder(tf.float32, [None, n_class], name = \"Y\")\n",
    "is_train = tf.placeholder(tf.bool, name=\"is_train\")\n",
    "\n",
    "if is_preproc:\n",
    "    X = preproc(X)"
   ]
  },
  {
   "cell_type": "code",
   "execution_count": 16,
   "metadata": {
    "ExecuteTime": {
     "end_time": "2018-01-05T23:52:39.505720Z",
     "start_time": "2018-01-05T23:52:34.697446Z"
    }
   },
   "outputs": [
    {
     "name": "stdout",
     "output_type": "stream",
     "text": [
      "Tensor(\"CONV0/pre_conv/Relu:0\", shape=(?, 64, 64, 16), dtype=float32)\n",
      "Tensor(\"CONV1/resblk0/Relu:0\", shape=(?, 32, 32, 16), dtype=float32)\n",
      "Tensor(\"CONV1/resblk1/Relu:0\", shape=(?, 32, 32, 16), dtype=float32)\n",
      "Tensor(\"CONV1/resblk2/Relu:0\", shape=(?, 32, 32, 16), dtype=float32)\n",
      "Tensor(\"CONV2/resblk0/Relu:0\", shape=(?, 16, 16, 32), dtype=float32)\n",
      "Tensor(\"CONV2/resblk1/Relu:0\", shape=(?, 16, 16, 32), dtype=float32)\n",
      "Tensor(\"CONV2/resblk2/Relu:0\", shape=(?, 16, 16, 32), dtype=float32)\n",
      "Tensor(\"CONV3/resblk0/Relu:0\", shape=(?, 8, 8, 64), dtype=float32)\n",
      "Tensor(\"CONV3/resblk1/Relu:0\", shape=(?, 8, 8, 64), dtype=float32)\n",
      "Tensor(\"CONV3/resblk2/Relu:0\", shape=(?, 8, 8, 64), dtype=float32)\n",
      "Tensor(\"CONV4/resblk0/Relu:0\", shape=(?, 4, 4, 128), dtype=float32)\n",
      "Tensor(\"CONV4/resblk1/Relu:0\", shape=(?, 4, 4, 128), dtype=float32)\n",
      "Tensor(\"CONV4/resblk2/Relu:0\", shape=(?, 4, 4, 128), dtype=float32)\n",
      "Tensor(\"GAP/gap/AvgPool:0\", shape=(?, 1, 1, 128), dtype=float32)\n",
      "Tensor(\"FC/Reshape:0\", shape=(?, 2), dtype=float32)\n"
     ]
    }
   ],
   "source": [
    "logits = build_resnet(X, number_of_resblk, number_of_layer, training=is_train, n_filters=16, seed=seed)"
   ]
  },
  {
   "cell_type": "code",
   "execution_count": 17,
   "metadata": {
    "ExecuteTime": {
     "end_time": "2018-01-05T23:52:40.775690Z",
     "start_time": "2018-01-05T23:52:39.506220Z"
    }
   },
   "outputs": [],
   "source": [
    "cost = tf.reduce_mean(tf.nn.softmax_cross_entropy_with_logits(logits=logits, labels=Y), name=\"cost\")\n",
    "#n_batches_per_epoch = int(n_train / batch_size)\n",
    "\n",
    "update_ops = tf.get_collection(tf.GraphKeys.UPDATE_OPS)\n",
    "with tf.control_dependencies(update_ops):\n",
    "    optimizer = tf.train.AdamOptimizer(learning_rate=learning_rate).minimize(cost, name=\"optimizer\") "
   ]
  },
  {
   "cell_type": "code",
   "execution_count": 18,
   "metadata": {
    "ExecuteTime": {
     "end_time": "2018-01-05T23:52:40.786179Z",
     "start_time": "2018-01-05T23:52:40.776654Z"
    }
   },
   "outputs": [
    {
     "name": "stdout",
     "output_type": "stream",
     "text": [
      "(?, 2) (?, 2)\n"
     ]
    }
   ],
   "source": [
    "correct_prediction = tf.equal(tf.argmax(logits, 1), tf.argmax(Y, 1))\n",
    "accuracy = tf.reduce_mean(tf.cast(correct_prediction, tf.float32))\n",
    "print(logits.shape, Y.shape)\n",
    "\n",
    "# pred = tf.argmax(logits, axis=1, name=\"prediction\")\n",
    "# prob = tf.nn.softmax(logits, name=\"softmax\")\n",
    "# accuracy = tf.reduce_mean(tf.cast(tf.equal(pred, tf.argmax(Y, axis=1)), tf.float32), name=\"accuracy\")"
   ]
  },
  {
   "cell_type": "code",
   "execution_count": 19,
   "metadata": {
    "ExecuteTime": {
     "end_time": "2018-01-05T23:52:41.460499Z",
     "start_time": "2018-01-05T23:52:40.787182Z"
    }
   },
   "outputs": [],
   "source": [
    "train_var = [X, Y, is_train, logits, accuracy]\n",
    "tf.add_to_collection('train_var', train_var[0])\n",
    "tf.add_to_collection('train_var', train_var[1])\n",
    "tf.add_to_collection('train_var', train_var[2])\n",
    "tf.add_to_collection('train_var', train_var[3])\n",
    "tf.add_to_collection('train_var', train_var[4])\n",
    "saver = tf.train.Saver()"
   ]
  },
  {
   "cell_type": "code",
   "execution_count": 20,
   "metadata": {
    "ExecuteTime": {
     "end_time": "2018-01-05T23:52:44.579311Z",
     "start_time": "2018-01-05T23:52:41.461476Z"
    }
   },
   "outputs": [],
   "source": [
    "# initialize\n",
    "init_op = tf.group(tf.global_variables_initializer(),tf.local_variables_initializer())\n",
    "sess = tf.Session(config=tf.ConfigProto(gpu_options=tf.GPUOptions(allow_growth =True)))\n",
    "sess.run(tf.global_variables_initializer())\n",
    "sess.run(init_op)"
   ]
  },
  {
   "cell_type": "code",
   "execution_count": 21,
   "metadata": {
    "ExecuteTime": {
     "end_time": "2018-01-05T23:52:44.585806Z",
     "start_time": "2018-01-05T23:52:44.579789Z"
    }
   },
   "outputs": [],
   "source": [
    "coord = tf.train.Coordinator()\n",
    "threads = tf.train.start_queue_runners(coord=coord, sess=sess)"
   ]
  },
  {
   "cell_type": "code",
   "execution_count": 22,
   "metadata": {
    "ExecuteTime": {
     "end_time": "2018-01-06T00:03:58.692761Z",
     "start_time": "2018-01-05T23:52:44.587309Z"
    }
   },
   "outputs": [
    {
     "name": "stdout",
     "output_type": "stream",
     "text": [
      "Learning started. It takes sometime.\n",
      "Epoch: 0001 cost = 0.694375944 train accuracy =  0.61543 validation accuracy =  0.61255\n",
      "Epoch: 0002 cost = 0.577967881 train accuracy =  0.69822 validation accuracy =  0.63374\n",
      "Epoch: 0003 cost = 0.540190405 train accuracy =  0.72452 validation accuracy =  0.62540\n",
      "Epoch: 0004 cost = 0.511163322 train accuracy =  0.74957 validation accuracy =  0.73252\n",
      "Epoch: 0005 cost = 0.482417000 train accuracy =  0.76732 validation accuracy =  0.76443\n",
      "Epoch: 0006 cost = 0.448902476 train accuracy =  0.78722 validation accuracy =  0.73120\n",
      "Epoch: 0007 cost = 0.422950379 train accuracy =  0.80171 validation accuracy =  0.70697\n",
      "Epoch: 0008 cost = 0.398175580 train accuracy =  0.81712 validation accuracy =  0.75119\n",
      "Epoch: 0009 cost = 0.375033091 train accuracy =  0.83009 validation accuracy =  0.78549\n",
      "Epoch: 0010 cost = 0.349955669 train accuracy =  0.84184 validation accuracy =  0.80244\n",
      "Epoch: 0011 cost = 0.330891316 train accuracy =  0.85203 validation accuracy =  0.81144\n",
      "Epoch: 0012 cost = 0.308835733 train accuracy =  0.86517 validation accuracy =  0.80376\n",
      "Epoch: 0013 cost = 0.291636879 train accuracy =  0.87335 validation accuracy =  0.81157\n",
      "Epoch: 0014 cost = 0.272205089 train accuracy =  0.88414 validation accuracy =  0.80998\n",
      "Epoch: 0015 cost = 0.260033771 train accuracy =  0.88949 validation accuracy =  0.82124\n",
      "Epoch: 0016 cost = 0.247099195 train accuracy =  0.89480 validation accuracy =  0.80495\n",
      "Epoch: 0017 cost = 0.230484520 train accuracy =  0.90331 validation accuracy =  0.80072\n",
      "Epoch: 0018 cost = 0.213331934 train accuracy =  0.91054 validation accuracy =  0.81435\n",
      "Epoch: 0019 cost = 0.206231350 train accuracy =  0.91460 validation accuracy =  0.80045\n",
      "Epoch: 0020 cost = 0.198235560 train accuracy =  0.91651 validation accuracy =  0.82005\n",
      "Epoch: 0021 cost = 0.186842941 train accuracy =  0.92288 validation accuracy =  0.83024\n",
      "Epoch: 0022 cost = 0.177015958 train accuracy =  0.92757 validation accuracy =  0.82958\n",
      "Epoch: 0023 cost = 0.163720214 train accuracy =  0.93308 validation accuracy =  0.83726\n",
      "Epoch: 0024 cost = 0.157555293 train accuracy =  0.93701 validation accuracy =  0.83183\n",
      "Epoch: 0025 cost = 0.152683074 train accuracy =  0.93773 validation accuracy =  0.82561\n",
      "Epoch: 0026 cost = 0.143541096 train accuracy =  0.94169 validation accuracy =  0.79542\n",
      "Epoch: 0027 cost = 0.146338291 train accuracy =  0.94077 validation accuracy =  0.83276\n",
      "Epoch: 0028 cost = 0.139070124 train accuracy =  0.94354 validation accuracy =  0.82601\n",
      "Epoch: 0029 cost = 0.136124527 train accuracy =  0.94545 validation accuracy =  0.82283\n",
      "Epoch: 0030 cost = 0.129617964 train accuracy =  0.94875 validation accuracy =  0.83117\n",
      "Average train accuracy =  0.86385 Average validation accuracy =  0.78357\n",
      "Learning Finished!\n"
     ]
    }
   ],
   "source": [
    "# train my model\n",
    "print('Learning started. It takes sometime.')\n",
    "pre_val_acc = 0\n",
    "all_avg_train_acc, all_avg_val_acc = 0, 0\n",
    "for epoch in range(training_epochs):\n",
    "    avg_cost = 0.\n",
    "    avg_train_acc = 0.\n",
    "    avg_val_acc = 0.\n",
    "    total_batch = int(n_train / batch_size)\n",
    "    total_batch_val = int(n_val / batch_size)\n",
    "\n",
    "    for i in range(total_batch):\n",
    "        try:\n",
    "            batch_xs, batch_ys = sess.run([image_batch, label_batch])\n",
    "        except tf.errors.OutOfRangeError:\n",
    "            pass\n",
    "        batch_xs = batch_xs/255.        \n",
    "        feed_dict = {X: batch_xs, Y: batch_ys, is_train: True}\n",
    "        #feed_dict = {X: batch_xs, Y: batch_ys, keep_prob: 0.7}\n",
    "        acc, c, _ = sess.run([accuracy, cost, optimizer], feed_dict=feed_dict)\n",
    "        avg_cost += c / total_batch\n",
    "        avg_train_acc += acc / total_batch\n",
    "    \n",
    "    for i in range(total_batch_val):\n",
    "        batch_xs, batch_ys = sess.run([image_val, label_val])\n",
    "        batch_xs = batch_xs/255.\n",
    "        feed_dict = {X: batch_xs, Y: batch_ys, is_train: False}\n",
    "        acc = sess.run(accuracy, feed_dict=feed_dict)\n",
    "        avg_val_acc += acc / total_batch_val\n",
    "        \n",
    "    learning_rate = LR_OPT.get_triangular_lr(epoch, stepsize, base_lr, max_lr)\n",
    "        \n",
    "    print('Epoch:', '%04d' % (epoch + 1), 'cost =', '{:.9f}'.format(avg_cost), 'train accuracy = ', \n",
    "         '{:.5f}'.format(avg_train_acc), 'validation accuracy = ', '{:.5f}'.format(avg_val_acc))   \n",
    "    \n",
    "    #learning_rate = LR_OPT.learning_rate_decay(learning_rate, 0.5, pre_val_acc, avg_val_acc) # val accuracy가 감소하면 lr 0.5 배\n",
    "    #re_val_acc = avg_val_acc # val accuracy 갱신    \n",
    "    \n",
    "    all_avg_train_acc += avg_train_acc / training_epochs\n",
    "    all_avg_val_acc += avg_val_acc / training_epochs\n",
    "\n",
    "print('Average train accuracy = ','{:.5f}'.format(all_avg_train_acc),'Average validation accuracy = ','{:.5f}'.format(all_avg_val_acc))\n",
    "print('Learning Finished!')"
   ]
  },
  {
   "cell_type": "code",
   "execution_count": 23,
   "metadata": {
    "ExecuteTime": {
     "end_time": "2018-01-06T00:04:09.981052Z",
     "start_time": "2018-01-06T00:03:58.693764Z"
    }
   },
   "outputs": [
    {
     "ename": "ResourceExhaustedError",
     "evalue": "OOM when allocating tensor with shape[9477,16,64,64]\n\t [[Node: CONV0/pre_conv/conv2d/Conv2D = Conv2D[T=DT_FLOAT, data_format=\"NHWC\", padding=\"SAME\", strides=[1, 1, 1, 1], use_cudnn_on_gpu=true, _device=\"/job:localhost/replica:0/task:0/device:GPU:0\"](_arg_sub_0_2/_233, CONV0/pre_conv/conv2d/kernel/read)]]\n\t [[Node: Mean_1/_247 = _Recv[client_terminated=false, recv_device=\"/job:localhost/replica:0/task:0/device:CPU:0\", send_device=\"/job:localhost/replica:0/task:0/device:GPU:0\", send_device_incarnation=1, tensor_name=\"edge_769_Mean_1\", tensor_type=DT_FLOAT, _device=\"/job:localhost/replica:0/task:0/device:CPU:0\"]()]]\n\nCaused by op 'CONV0/pre_conv/conv2d/Conv2D', defined at:\n  File \"C:\\Users\\infoe\\Anaconda3\\lib\\runpy.py\", line 184, in _run_module_as_main\n    \"__main__\", mod_spec)\n  File \"C:\\Users\\infoe\\Anaconda3\\lib\\runpy.py\", line 85, in _run_code\n    exec(code, run_globals)\n  File \"C:\\Users\\infoe\\Anaconda3\\lib\\site-packages\\ipykernel\\__main__.py\", line 3, in <module>\n    app.launch_new_instance()\n  File \"C:\\Users\\infoe\\Anaconda3\\lib\\site-packages\\traitlets\\config\\application.py\", line 653, in launch_instance\n    app.start()\n  File \"C:\\Users\\infoe\\Anaconda3\\lib\\site-packages\\ipykernel\\kernelapp.py\", line 474, in start\n    ioloop.IOLoop.instance().start()\n  File \"C:\\Users\\infoe\\Anaconda3\\lib\\site-packages\\zmq\\eventloop\\ioloop.py\", line 162, in start\n    super(ZMQIOLoop, self).start()\n  File \"C:\\Users\\infoe\\Anaconda3\\lib\\site-packages\\tornado\\ioloop.py\", line 887, in start\n    handler_func(fd_obj, events)\n  File \"C:\\Users\\infoe\\Anaconda3\\lib\\site-packages\\tornado\\stack_context.py\", line 275, in null_wrapper\n    return fn(*args, **kwargs)\n  File \"C:\\Users\\infoe\\Anaconda3\\lib\\site-packages\\zmq\\eventloop\\zmqstream.py\", line 440, in _handle_events\n    self._handle_recv()\n  File \"C:\\Users\\infoe\\Anaconda3\\lib\\site-packages\\zmq\\eventloop\\zmqstream.py\", line 472, in _handle_recv\n    self._run_callback(callback, msg)\n  File \"C:\\Users\\infoe\\Anaconda3\\lib\\site-packages\\zmq\\eventloop\\zmqstream.py\", line 414, in _run_callback\n    callback(*args, **kwargs)\n  File \"C:\\Users\\infoe\\Anaconda3\\lib\\site-packages\\tornado\\stack_context.py\", line 275, in null_wrapper\n    return fn(*args, **kwargs)\n  File \"C:\\Users\\infoe\\Anaconda3\\lib\\site-packages\\ipykernel\\kernelbase.py\", line 276, in dispatcher\n    return self.dispatch_shell(stream, msg)\n  File \"C:\\Users\\infoe\\Anaconda3\\lib\\site-packages\\ipykernel\\kernelbase.py\", line 228, in dispatch_shell\n    handler(stream, idents, msg)\n  File \"C:\\Users\\infoe\\Anaconda3\\lib\\site-packages\\ipykernel\\kernelbase.py\", line 390, in execute_request\n    user_expressions, allow_stdin)\n  File \"C:\\Users\\infoe\\Anaconda3\\lib\\site-packages\\ipykernel\\ipkernel.py\", line 196, in do_execute\n    res = shell.run_cell(code, store_history=store_history, silent=silent)\n  File \"C:\\Users\\infoe\\Anaconda3\\lib\\site-packages\\ipykernel\\zmqshell.py\", line 501, in run_cell\n    return super(ZMQInteractiveShell, self).run_cell(*args, **kwargs)\n  File \"C:\\Users\\infoe\\Anaconda3\\lib\\site-packages\\IPython\\core\\interactiveshell.py\", line 2717, in run_cell\n    interactivity=interactivity, compiler=compiler, result=result)\n  File \"C:\\Users\\infoe\\Anaconda3\\lib\\site-packages\\IPython\\core\\interactiveshell.py\", line 2821, in run_ast_nodes\n    if self.run_code(code, result):\n  File \"C:\\Users\\infoe\\Anaconda3\\lib\\site-packages\\IPython\\core\\interactiveshell.py\", line 2881, in run_code\n    exec(code_obj, self.user_global_ns, self.user_ns)\n  File \"<ipython-input-16-a591c445a474>\", line 1, in <module>\n    logits = build_resnet(X, number_of_resblk, number_of_layer, training=is_train, n_filters=16, seed=seed)\n  File \"<ipython-input-14-f580fa7d0b5d>\", line 4, in build_resnet\n    net = conv_bn_activ(\"pre_conv\", net, n_filters, [3, 3], 1, training, seed)\n  File \"<ipython-input-12-d8c08a127782>\", line 3, in conv_bn_activ\n    net = tf.layers.conv2d(x, n_filters, kernel_size, strides=strides, padding=padding, use_bias=False, kernel_initializer=tf.contrib.layers.variance_scaling_initializer(seed=seed))\n  File \"C:\\Users\\infoe\\Anaconda3\\lib\\site-packages\\tensorflow\\python\\layers\\convolutional.py\", line 608, in conv2d\n    return layer.apply(inputs)\n  File \"C:\\Users\\infoe\\Anaconda3\\lib\\site-packages\\tensorflow\\python\\layers\\base.py\", line 671, in apply\n    return self.__call__(inputs, *args, **kwargs)\n  File \"C:\\Users\\infoe\\Anaconda3\\lib\\site-packages\\tensorflow\\python\\layers\\base.py\", line 575, in __call__\n    outputs = self.call(inputs, *args, **kwargs)\n  File \"C:\\Users\\infoe\\Anaconda3\\lib\\site-packages\\tensorflow\\python\\layers\\convolutional.py\", line 167, in call\n    outputs = self._convolution_op(inputs, self.kernel)\n  File \"C:\\Users\\infoe\\Anaconda3\\lib\\site-packages\\tensorflow\\python\\ops\\nn_ops.py\", line 835, in __call__\n    return self.conv_op(inp, filter)\n  File \"C:\\Users\\infoe\\Anaconda3\\lib\\site-packages\\tensorflow\\python\\ops\\nn_ops.py\", line 499, in __call__\n    return self.call(inp, filter)\n  File \"C:\\Users\\infoe\\Anaconda3\\lib\\site-packages\\tensorflow\\python\\ops\\nn_ops.py\", line 187, in __call__\n    name=self.name)\n  File \"C:\\Users\\infoe\\Anaconda3\\lib\\site-packages\\tensorflow\\python\\ops\\gen_nn_ops.py\", line 630, in conv2d\n    data_format=data_format, name=name)\n  File \"C:\\Users\\infoe\\Anaconda3\\lib\\site-packages\\tensorflow\\python\\framework\\op_def_library.py\", line 787, in _apply_op_helper\n    op_def=op_def)\n  File \"C:\\Users\\infoe\\Anaconda3\\lib\\site-packages\\tensorflow\\python\\framework\\ops.py\", line 2956, in create_op\n    op_def=op_def)\n  File \"C:\\Users\\infoe\\Anaconda3\\lib\\site-packages\\tensorflow\\python\\framework\\ops.py\", line 1470, in __init__\n    self._traceback = self._graph._extract_stack()  # pylint: disable=protected-access\n\nResourceExhaustedError (see above for traceback): OOM when allocating tensor with shape[9477,16,64,64]\n\t [[Node: CONV0/pre_conv/conv2d/Conv2D = Conv2D[T=DT_FLOAT, data_format=\"NHWC\", padding=\"SAME\", strides=[1, 1, 1, 1], use_cudnn_on_gpu=true, _device=\"/job:localhost/replica:0/task:0/device:GPU:0\"](_arg_sub_0_2/_233, CONV0/pre_conv/conv2d/kernel/read)]]\n\t [[Node: Mean_1/_247 = _Recv[client_terminated=false, recv_device=\"/job:localhost/replica:0/task:0/device:CPU:0\", send_device=\"/job:localhost/replica:0/task:0/device:GPU:0\", send_device_incarnation=1, tensor_name=\"edge_769_Mean_1\", tensor_type=DT_FLOAT, _device=\"/job:localhost/replica:0/task:0/device:CPU:0\"]()]]\n",
     "output_type": "error",
     "traceback": [
      "\u001b[0;31m---------------------------------------------------------------------------\u001b[0m",
      "\u001b[0;31mResourceExhaustedError\u001b[0m                    Traceback (most recent call last)",
      "\u001b[0;32mC:\\Users\\infoe\\Anaconda3\\lib\\site-packages\\tensorflow\\python\\client\\session.py\u001b[0m in \u001b[0;36m_do_call\u001b[0;34m(self, fn, *args)\u001b[0m\n\u001b[1;32m   1322\u001b[0m     \u001b[1;32mtry\u001b[0m\u001b[1;33m:\u001b[0m\u001b[1;33m\u001b[0m\u001b[0m\n\u001b[0;32m-> 1323\u001b[0;31m       \u001b[1;32mreturn\u001b[0m \u001b[0mfn\u001b[0m\u001b[1;33m(\u001b[0m\u001b[1;33m*\u001b[0m\u001b[0margs\u001b[0m\u001b[1;33m)\u001b[0m\u001b[1;33m\u001b[0m\u001b[0m\n\u001b[0m\u001b[1;32m   1324\u001b[0m     \u001b[1;32mexcept\u001b[0m \u001b[0merrors\u001b[0m\u001b[1;33m.\u001b[0m\u001b[0mOpError\u001b[0m \u001b[1;32mas\u001b[0m \u001b[0me\u001b[0m\u001b[1;33m:\u001b[0m\u001b[1;33m\u001b[0m\u001b[0m\n",
      "\u001b[0;32mC:\\Users\\infoe\\Anaconda3\\lib\\site-packages\\tensorflow\\python\\client\\session.py\u001b[0m in \u001b[0;36m_run_fn\u001b[0;34m(session, feed_dict, fetch_list, target_list, options, run_metadata)\u001b[0m\n\u001b[1;32m   1301\u001b[0m                                    \u001b[0mfeed_dict\u001b[0m\u001b[1;33m,\u001b[0m \u001b[0mfetch_list\u001b[0m\u001b[1;33m,\u001b[0m \u001b[0mtarget_list\u001b[0m\u001b[1;33m,\u001b[0m\u001b[1;33m\u001b[0m\u001b[0m\n\u001b[0;32m-> 1302\u001b[0;31m                                    status, run_metadata)\n\u001b[0m\u001b[1;32m   1303\u001b[0m \u001b[1;33m\u001b[0m\u001b[0m\n",
      "\u001b[0;32mC:\\Users\\infoe\\Anaconda3\\lib\\site-packages\\tensorflow\\python\\framework\\errors_impl.py\u001b[0m in \u001b[0;36m__exit__\u001b[0;34m(self, type_arg, value_arg, traceback_arg)\u001b[0m\n\u001b[1;32m    472\u001b[0m             \u001b[0mcompat\u001b[0m\u001b[1;33m.\u001b[0m\u001b[0mas_text\u001b[0m\u001b[1;33m(\u001b[0m\u001b[0mc_api\u001b[0m\u001b[1;33m.\u001b[0m\u001b[0mTF_Message\u001b[0m\u001b[1;33m(\u001b[0m\u001b[0mself\u001b[0m\u001b[1;33m.\u001b[0m\u001b[0mstatus\u001b[0m\u001b[1;33m.\u001b[0m\u001b[0mstatus\u001b[0m\u001b[1;33m)\u001b[0m\u001b[1;33m)\u001b[0m\u001b[1;33m,\u001b[0m\u001b[1;33m\u001b[0m\u001b[0m\n\u001b[0;32m--> 473\u001b[0;31m             c_api.TF_GetCode(self.status.status))\n\u001b[0m\u001b[1;32m    474\u001b[0m     \u001b[1;31m# Delete the underlying status object from memory otherwise it stays alive\u001b[0m\u001b[1;33m\u001b[0m\u001b[1;33m\u001b[0m\u001b[0m\n",
      "\u001b[0;31mResourceExhaustedError\u001b[0m: OOM when allocating tensor with shape[9477,16,64,64]\n\t [[Node: CONV0/pre_conv/conv2d/Conv2D = Conv2D[T=DT_FLOAT, data_format=\"NHWC\", padding=\"SAME\", strides=[1, 1, 1, 1], use_cudnn_on_gpu=true, _device=\"/job:localhost/replica:0/task:0/device:GPU:0\"](_arg_sub_0_2/_233, CONV0/pre_conv/conv2d/kernel/read)]]\n\t [[Node: Mean_1/_247 = _Recv[client_terminated=false, recv_device=\"/job:localhost/replica:0/task:0/device:CPU:0\", send_device=\"/job:localhost/replica:0/task:0/device:GPU:0\", send_device_incarnation=1, tensor_name=\"edge_769_Mean_1\", tensor_type=DT_FLOAT, _device=\"/job:localhost/replica:0/task:0/device:CPU:0\"]()]]",
      "\nDuring handling of the above exception, another exception occurred:\n",
      "\u001b[0;31mResourceExhaustedError\u001b[0m                    Traceback (most recent call last)",
      "\u001b[0;32m<ipython-input-23-c4a7303e3d67>\u001b[0m in \u001b[0;36m<module>\u001b[0;34m()\u001b[0m\n\u001b[1;32m      1\u001b[0m \u001b[0mtest_xs\u001b[0m\u001b[1;33m,\u001b[0m \u001b[0mtest_ys\u001b[0m \u001b[1;33m=\u001b[0m \u001b[0msess\u001b[0m\u001b[1;33m.\u001b[0m\u001b[0mrun\u001b[0m\u001b[1;33m(\u001b[0m\u001b[1;33m[\u001b[0m\u001b[0mimage_test\u001b[0m\u001b[1;33m,\u001b[0m \u001b[0mlabel_test\u001b[0m\u001b[1;33m]\u001b[0m\u001b[1;33m)\u001b[0m\u001b[1;33m\u001b[0m\u001b[0m\n\u001b[0;32m----> 2\u001b[0;31m \u001b[0mprint\u001b[0m\u001b[1;33m(\u001b[0m\u001b[1;34m'Test Accuracy:'\u001b[0m\u001b[1;33m,\u001b[0m \u001b[0msess\u001b[0m\u001b[1;33m.\u001b[0m\u001b[0mrun\u001b[0m\u001b[1;33m(\u001b[0m\u001b[0maccuracy\u001b[0m\u001b[1;33m,\u001b[0m \u001b[0mfeed_dict\u001b[0m\u001b[1;33m=\u001b[0m\u001b[1;33m{\u001b[0m\u001b[0mX\u001b[0m\u001b[1;33m:\u001b[0m \u001b[0mtest_xs\u001b[0m\u001b[1;33m,\u001b[0m \u001b[0mY\u001b[0m\u001b[1;33m:\u001b[0m \u001b[0mtest_ys\u001b[0m\u001b[1;33m,\u001b[0m \u001b[0mis_train\u001b[0m\u001b[1;33m:\u001b[0m\u001b[1;32mFalse\u001b[0m\u001b[1;33m}\u001b[0m\u001b[1;33m)\u001b[0m\u001b[1;33m)\u001b[0m\u001b[1;33m\u001b[0m\u001b[0m\n\u001b[0m",
      "\u001b[0;32mC:\\Users\\infoe\\Anaconda3\\lib\\site-packages\\tensorflow\\python\\client\\session.py\u001b[0m in \u001b[0;36mrun\u001b[0;34m(self, fetches, feed_dict, options, run_metadata)\u001b[0m\n\u001b[1;32m    887\u001b[0m     \u001b[1;32mtry\u001b[0m\u001b[1;33m:\u001b[0m\u001b[1;33m\u001b[0m\u001b[0m\n\u001b[1;32m    888\u001b[0m       result = self._run(None, fetches, feed_dict, options_ptr,\n\u001b[0;32m--> 889\u001b[0;31m                          run_metadata_ptr)\n\u001b[0m\u001b[1;32m    890\u001b[0m       \u001b[1;32mif\u001b[0m \u001b[0mrun_metadata\u001b[0m\u001b[1;33m:\u001b[0m\u001b[1;33m\u001b[0m\u001b[0m\n\u001b[1;32m    891\u001b[0m         \u001b[0mproto_data\u001b[0m \u001b[1;33m=\u001b[0m \u001b[0mtf_session\u001b[0m\u001b[1;33m.\u001b[0m\u001b[0mTF_GetBuffer\u001b[0m\u001b[1;33m(\u001b[0m\u001b[0mrun_metadata_ptr\u001b[0m\u001b[1;33m)\u001b[0m\u001b[1;33m\u001b[0m\u001b[0m\n",
      "\u001b[0;32mC:\\Users\\infoe\\Anaconda3\\lib\\site-packages\\tensorflow\\python\\client\\session.py\u001b[0m in \u001b[0;36m_run\u001b[0;34m(self, handle, fetches, feed_dict, options, run_metadata)\u001b[0m\n\u001b[1;32m   1118\u001b[0m     \u001b[1;32mif\u001b[0m \u001b[0mfinal_fetches\u001b[0m \u001b[1;32mor\u001b[0m \u001b[0mfinal_targets\u001b[0m \u001b[1;32mor\u001b[0m \u001b[1;33m(\u001b[0m\u001b[0mhandle\u001b[0m \u001b[1;32mand\u001b[0m \u001b[0mfeed_dict_tensor\u001b[0m\u001b[1;33m)\u001b[0m\u001b[1;33m:\u001b[0m\u001b[1;33m\u001b[0m\u001b[0m\n\u001b[1;32m   1119\u001b[0m       results = self._do_run(handle, final_targets, final_fetches,\n\u001b[0;32m-> 1120\u001b[0;31m                              feed_dict_tensor, options, run_metadata)\n\u001b[0m\u001b[1;32m   1121\u001b[0m     \u001b[1;32melse\u001b[0m\u001b[1;33m:\u001b[0m\u001b[1;33m\u001b[0m\u001b[0m\n\u001b[1;32m   1122\u001b[0m       \u001b[0mresults\u001b[0m \u001b[1;33m=\u001b[0m \u001b[1;33m[\u001b[0m\u001b[1;33m]\u001b[0m\u001b[1;33m\u001b[0m\u001b[0m\n",
      "\u001b[0;32mC:\\Users\\infoe\\Anaconda3\\lib\\site-packages\\tensorflow\\python\\client\\session.py\u001b[0m in \u001b[0;36m_do_run\u001b[0;34m(self, handle, target_list, fetch_list, feed_dict, options, run_metadata)\u001b[0m\n\u001b[1;32m   1315\u001b[0m     \u001b[1;32mif\u001b[0m \u001b[0mhandle\u001b[0m \u001b[1;32mis\u001b[0m \u001b[1;32mNone\u001b[0m\u001b[1;33m:\u001b[0m\u001b[1;33m\u001b[0m\u001b[0m\n\u001b[1;32m   1316\u001b[0m       return self._do_call(_run_fn, self._session, feeds, fetches, targets,\n\u001b[0;32m-> 1317\u001b[0;31m                            options, run_metadata)\n\u001b[0m\u001b[1;32m   1318\u001b[0m     \u001b[1;32melse\u001b[0m\u001b[1;33m:\u001b[0m\u001b[1;33m\u001b[0m\u001b[0m\n\u001b[1;32m   1319\u001b[0m       \u001b[1;32mreturn\u001b[0m \u001b[0mself\u001b[0m\u001b[1;33m.\u001b[0m\u001b[0m_do_call\u001b[0m\u001b[1;33m(\u001b[0m\u001b[0m_prun_fn\u001b[0m\u001b[1;33m,\u001b[0m \u001b[0mself\u001b[0m\u001b[1;33m.\u001b[0m\u001b[0m_session\u001b[0m\u001b[1;33m,\u001b[0m \u001b[0mhandle\u001b[0m\u001b[1;33m,\u001b[0m \u001b[0mfeeds\u001b[0m\u001b[1;33m,\u001b[0m \u001b[0mfetches\u001b[0m\u001b[1;33m)\u001b[0m\u001b[1;33m\u001b[0m\u001b[0m\n",
      "\u001b[0;32mC:\\Users\\infoe\\Anaconda3\\lib\\site-packages\\tensorflow\\python\\client\\session.py\u001b[0m in \u001b[0;36m_do_call\u001b[0;34m(self, fn, *args)\u001b[0m\n\u001b[1;32m   1334\u001b[0m         \u001b[1;32mexcept\u001b[0m \u001b[0mKeyError\u001b[0m\u001b[1;33m:\u001b[0m\u001b[1;33m\u001b[0m\u001b[0m\n\u001b[1;32m   1335\u001b[0m           \u001b[1;32mpass\u001b[0m\u001b[1;33m\u001b[0m\u001b[0m\n\u001b[0;32m-> 1336\u001b[0;31m       \u001b[1;32mraise\u001b[0m \u001b[0mtype\u001b[0m\u001b[1;33m(\u001b[0m\u001b[0me\u001b[0m\u001b[1;33m)\u001b[0m\u001b[1;33m(\u001b[0m\u001b[0mnode_def\u001b[0m\u001b[1;33m,\u001b[0m \u001b[0mop\u001b[0m\u001b[1;33m,\u001b[0m \u001b[0mmessage\u001b[0m\u001b[1;33m)\u001b[0m\u001b[1;33m\u001b[0m\u001b[0m\n\u001b[0m\u001b[1;32m   1337\u001b[0m \u001b[1;33m\u001b[0m\u001b[0m\n\u001b[1;32m   1338\u001b[0m   \u001b[1;32mdef\u001b[0m \u001b[0m_extend_graph\u001b[0m\u001b[1;33m(\u001b[0m\u001b[0mself\u001b[0m\u001b[1;33m)\u001b[0m\u001b[1;33m:\u001b[0m\u001b[1;33m\u001b[0m\u001b[0m\n",
      "\u001b[0;31mResourceExhaustedError\u001b[0m: OOM when allocating tensor with shape[9477,16,64,64]\n\t [[Node: CONV0/pre_conv/conv2d/Conv2D = Conv2D[T=DT_FLOAT, data_format=\"NHWC\", padding=\"SAME\", strides=[1, 1, 1, 1], use_cudnn_on_gpu=true, _device=\"/job:localhost/replica:0/task:0/device:GPU:0\"](_arg_sub_0_2/_233, CONV0/pre_conv/conv2d/kernel/read)]]\n\t [[Node: Mean_1/_247 = _Recv[client_terminated=false, recv_device=\"/job:localhost/replica:0/task:0/device:CPU:0\", send_device=\"/job:localhost/replica:0/task:0/device:GPU:0\", send_device_incarnation=1, tensor_name=\"edge_769_Mean_1\", tensor_type=DT_FLOAT, _device=\"/job:localhost/replica:0/task:0/device:CPU:0\"]()]]\n\nCaused by op 'CONV0/pre_conv/conv2d/Conv2D', defined at:\n  File \"C:\\Users\\infoe\\Anaconda3\\lib\\runpy.py\", line 184, in _run_module_as_main\n    \"__main__\", mod_spec)\n  File \"C:\\Users\\infoe\\Anaconda3\\lib\\runpy.py\", line 85, in _run_code\n    exec(code, run_globals)\n  File \"C:\\Users\\infoe\\Anaconda3\\lib\\site-packages\\ipykernel\\__main__.py\", line 3, in <module>\n    app.launch_new_instance()\n  File \"C:\\Users\\infoe\\Anaconda3\\lib\\site-packages\\traitlets\\config\\application.py\", line 653, in launch_instance\n    app.start()\n  File \"C:\\Users\\infoe\\Anaconda3\\lib\\site-packages\\ipykernel\\kernelapp.py\", line 474, in start\n    ioloop.IOLoop.instance().start()\n  File \"C:\\Users\\infoe\\Anaconda3\\lib\\site-packages\\zmq\\eventloop\\ioloop.py\", line 162, in start\n    super(ZMQIOLoop, self).start()\n  File \"C:\\Users\\infoe\\Anaconda3\\lib\\site-packages\\tornado\\ioloop.py\", line 887, in start\n    handler_func(fd_obj, events)\n  File \"C:\\Users\\infoe\\Anaconda3\\lib\\site-packages\\tornado\\stack_context.py\", line 275, in null_wrapper\n    return fn(*args, **kwargs)\n  File \"C:\\Users\\infoe\\Anaconda3\\lib\\site-packages\\zmq\\eventloop\\zmqstream.py\", line 440, in _handle_events\n    self._handle_recv()\n  File \"C:\\Users\\infoe\\Anaconda3\\lib\\site-packages\\zmq\\eventloop\\zmqstream.py\", line 472, in _handle_recv\n    self._run_callback(callback, msg)\n  File \"C:\\Users\\infoe\\Anaconda3\\lib\\site-packages\\zmq\\eventloop\\zmqstream.py\", line 414, in _run_callback\n    callback(*args, **kwargs)\n  File \"C:\\Users\\infoe\\Anaconda3\\lib\\site-packages\\tornado\\stack_context.py\", line 275, in null_wrapper\n    return fn(*args, **kwargs)\n  File \"C:\\Users\\infoe\\Anaconda3\\lib\\site-packages\\ipykernel\\kernelbase.py\", line 276, in dispatcher\n    return self.dispatch_shell(stream, msg)\n  File \"C:\\Users\\infoe\\Anaconda3\\lib\\site-packages\\ipykernel\\kernelbase.py\", line 228, in dispatch_shell\n    handler(stream, idents, msg)\n  File \"C:\\Users\\infoe\\Anaconda3\\lib\\site-packages\\ipykernel\\kernelbase.py\", line 390, in execute_request\n    user_expressions, allow_stdin)\n  File \"C:\\Users\\infoe\\Anaconda3\\lib\\site-packages\\ipykernel\\ipkernel.py\", line 196, in do_execute\n    res = shell.run_cell(code, store_history=store_history, silent=silent)\n  File \"C:\\Users\\infoe\\Anaconda3\\lib\\site-packages\\ipykernel\\zmqshell.py\", line 501, in run_cell\n    return super(ZMQInteractiveShell, self).run_cell(*args, **kwargs)\n  File \"C:\\Users\\infoe\\Anaconda3\\lib\\site-packages\\IPython\\core\\interactiveshell.py\", line 2717, in run_cell\n    interactivity=interactivity, compiler=compiler, result=result)\n  File \"C:\\Users\\infoe\\Anaconda3\\lib\\site-packages\\IPython\\core\\interactiveshell.py\", line 2821, in run_ast_nodes\n    if self.run_code(code, result):\n  File \"C:\\Users\\infoe\\Anaconda3\\lib\\site-packages\\IPython\\core\\interactiveshell.py\", line 2881, in run_code\n    exec(code_obj, self.user_global_ns, self.user_ns)\n  File \"<ipython-input-16-a591c445a474>\", line 1, in <module>\n    logits = build_resnet(X, number_of_resblk, number_of_layer, training=is_train, n_filters=16, seed=seed)\n  File \"<ipython-input-14-f580fa7d0b5d>\", line 4, in build_resnet\n    net = conv_bn_activ(\"pre_conv\", net, n_filters, [3, 3], 1, training, seed)\n  File \"<ipython-input-12-d8c08a127782>\", line 3, in conv_bn_activ\n    net = tf.layers.conv2d(x, n_filters, kernel_size, strides=strides, padding=padding, use_bias=False, kernel_initializer=tf.contrib.layers.variance_scaling_initializer(seed=seed))\n  File \"C:\\Users\\infoe\\Anaconda3\\lib\\site-packages\\tensorflow\\python\\layers\\convolutional.py\", line 608, in conv2d\n    return layer.apply(inputs)\n  File \"C:\\Users\\infoe\\Anaconda3\\lib\\site-packages\\tensorflow\\python\\layers\\base.py\", line 671, in apply\n    return self.__call__(inputs, *args, **kwargs)\n  File \"C:\\Users\\infoe\\Anaconda3\\lib\\site-packages\\tensorflow\\python\\layers\\base.py\", line 575, in __call__\n    outputs = self.call(inputs, *args, **kwargs)\n  File \"C:\\Users\\infoe\\Anaconda3\\lib\\site-packages\\tensorflow\\python\\layers\\convolutional.py\", line 167, in call\n    outputs = self._convolution_op(inputs, self.kernel)\n  File \"C:\\Users\\infoe\\Anaconda3\\lib\\site-packages\\tensorflow\\python\\ops\\nn_ops.py\", line 835, in __call__\n    return self.conv_op(inp, filter)\n  File \"C:\\Users\\infoe\\Anaconda3\\lib\\site-packages\\tensorflow\\python\\ops\\nn_ops.py\", line 499, in __call__\n    return self.call(inp, filter)\n  File \"C:\\Users\\infoe\\Anaconda3\\lib\\site-packages\\tensorflow\\python\\ops\\nn_ops.py\", line 187, in __call__\n    name=self.name)\n  File \"C:\\Users\\infoe\\Anaconda3\\lib\\site-packages\\tensorflow\\python\\ops\\gen_nn_ops.py\", line 630, in conv2d\n    data_format=data_format, name=name)\n  File \"C:\\Users\\infoe\\Anaconda3\\lib\\site-packages\\tensorflow\\python\\framework\\op_def_library.py\", line 787, in _apply_op_helper\n    op_def=op_def)\n  File \"C:\\Users\\infoe\\Anaconda3\\lib\\site-packages\\tensorflow\\python\\framework\\ops.py\", line 2956, in create_op\n    op_def=op_def)\n  File \"C:\\Users\\infoe\\Anaconda3\\lib\\site-packages\\tensorflow\\python\\framework\\ops.py\", line 1470, in __init__\n    self._traceback = self._graph._extract_stack()  # pylint: disable=protected-access\n\nResourceExhaustedError (see above for traceback): OOM when allocating tensor with shape[9477,16,64,64]\n\t [[Node: CONV0/pre_conv/conv2d/Conv2D = Conv2D[T=DT_FLOAT, data_format=\"NHWC\", padding=\"SAME\", strides=[1, 1, 1, 1], use_cudnn_on_gpu=true, _device=\"/job:localhost/replica:0/task:0/device:GPU:0\"](_arg_sub_0_2/_233, CONV0/pre_conv/conv2d/kernel/read)]]\n\t [[Node: Mean_1/_247 = _Recv[client_terminated=false, recv_device=\"/job:localhost/replica:0/task:0/device:CPU:0\", send_device=\"/job:localhost/replica:0/task:0/device:GPU:0\", send_device_incarnation=1, tensor_name=\"edge_769_Mean_1\", tensor_type=DT_FLOAT, _device=\"/job:localhost/replica:0/task:0/device:CPU:0\"]()]]\n"
     ]
    }
   ],
   "source": [
    "test_xs, test_ys = sess.run([image_test, label_test])\n",
    "print('Test Accuracy:', sess.run(accuracy, feed_dict={X: test_xs, Y: test_ys, is_train:False}))"
   ]
  },
  {
   "cell_type": "code",
   "execution_count": null,
   "metadata": {},
   "outputs": [],
   "source": []
  }
 ],
 "metadata": {
  "anaconda-cloud": {},
  "kernelspec": {
   "display_name": "Python [conda root]",
   "language": "python",
   "name": "conda-root-py"
  },
  "language_info": {
   "codemirror_mode": {
    "name": "ipython",
    "version": 3
   },
   "file_extension": ".py",
   "mimetype": "text/x-python",
   "name": "python",
   "nbconvert_exporter": "python",
   "pygments_lexer": "ipython3",
   "version": "3.5.2"
  },
  "varInspector": {
   "cols": {
    "lenName": 16,
    "lenType": 16,
    "lenVar": 40
   },
   "kernels_config": {
    "python": {
     "delete_cmd_postfix": "",
     "delete_cmd_prefix": "del ",
     "library": "var_list.py",
     "varRefreshCmd": "print(var_dic_list())"
    },
    "r": {
     "delete_cmd_postfix": ") ",
     "delete_cmd_prefix": "rm(",
     "library": "var_list.r",
     "varRefreshCmd": "cat(var_dic_list()) "
    }
   },
   "types_to_exclude": [
    "module",
    "function",
    "builtin_function_or_method",
    "instance",
    "_Feature"
   ],
   "window_display": false
  }
 },
 "nbformat": 4,
 "nbformat_minor": 1
}
