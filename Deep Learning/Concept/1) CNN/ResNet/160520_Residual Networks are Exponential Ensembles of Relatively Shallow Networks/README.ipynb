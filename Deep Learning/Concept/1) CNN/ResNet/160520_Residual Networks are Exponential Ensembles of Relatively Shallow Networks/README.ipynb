{
 "cells": [
  {
   "cell_type": "markdown",
   "metadata": {},
   "source": [
    "## Residual Networks are Exponential Ensembles of Relatively Shallow Networks\n",
    "\n",
    "출처 : http://www.edwith.org/deeplearningchoi\n",
    "\n",
    "![1](https://i.imgur.com/GNFTKLF.png)\n",
    "\n",
    "![2](https://i.imgur.com/ocgsQY6.png)\n",
    "\n",
    "![3](https://i.imgur.com/5g2lOVM.png)\n",
    "\n",
    "![4](https://i.imgur.com/WMVPiet.png)\n",
    "\n",
    "![5](https://i.imgur.com/7dIc9OV.png)\n",
    "\n",
    "![6](https://i.imgur.com/gKoGUv8.png)\n",
    "\n",
    "![7](https://i.imgur.com/LGjFfrB.png)\n",
    "\n",
    "![8](https://i.imgur.com/4fYBbFW.png)\n",
    "\n",
    "![9](https://i.imgur.com/LbVkm1L.png)"
   ]
  },
  {
   "cell_type": "code",
   "execution_count": null,
   "metadata": {},
   "outputs": [],
   "source": []
  }
 ],
 "metadata": {
  "anaconda-cloud": {},
  "kernelspec": {
   "display_name": "Python [conda root]",
   "language": "python",
   "name": "conda-root-py"
  },
  "language_info": {
   "codemirror_mode": {
    "name": "ipython",
    "version": 3
   },
   "file_extension": ".py",
   "mimetype": "text/x-python",
   "name": "python",
   "nbconvert_exporter": "python",
   "pygments_lexer": "ipython3",
   "version": "3.5.2"
  },
  "varInspector": {
   "cols": {
    "lenName": 16,
    "lenType": 16,
    "lenVar": 40
   },
   "kernels_config": {
    "python": {
     "delete_cmd_postfix": "",
     "delete_cmd_prefix": "del ",
     "library": "var_list.py",
     "varRefreshCmd": "print(var_dic_list())"
    },
    "r": {
     "delete_cmd_postfix": ") ",
     "delete_cmd_prefix": "rm(",
     "library": "var_list.r",
     "varRefreshCmd": "cat(var_dic_list()) "
    }
   },
   "types_to_exclude": [
    "module",
    "function",
    "builtin_function_or_method",
    "instance",
    "_Feature"
   ],
   "window_display": false
  }
 },
 "nbformat": 4,
 "nbformat_minor": 1
}
