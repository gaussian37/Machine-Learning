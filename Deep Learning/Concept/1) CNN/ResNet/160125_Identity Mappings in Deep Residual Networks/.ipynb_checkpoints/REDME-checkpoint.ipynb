{
 "cells": [
  {
   "cell_type": "markdown",
   "metadata": {},
   "source": [
    "# Identity Mappings in Deep Residual Networks\n",
    "\n",
    "Identity Mappings in Deep Residual Networks 논문에서는 새로운 Residual block을 제안하였습니다. <br>\n",
    "이 논문에서는 기존의 Residual block에서의 처리 순서를 바꾸었습니다. 상세 내용은 아래와 같습니다. <br>\n",
    "\n",
    "![1](https://i.imgur.com/lgzVx9f.png)\n",
    "\n",
    "\n",
    "## Abstract ##\n",
    "skip connection과 after-addition activation을 통하여 identity mapping을 사용하면, 하나의 block에서 다른 block들로  signal들이 forward/backward로 전파됩니다.\n",
    "\n",
    "\n",
    "## 1. Introduction ##\n",
    "\n",
    "ResNet은 \"Residual Units\"들의 누적(stack)들로 구성이 되어 있고 식으로 표현하면 다음과 같습니다.\n",
    "$$ y_{l} = h(x_{l}) + F(x_{l}, W_{l}) $$\n",
    "\n",
    "$$ x_{l+1} = f(y_{l}) $$\n",
    "\n",
    "여기서 $x_{l}$ 과 $x_{l+1} $은 l 번째 layer의 input과 output에 해당합니다. 식의 F는 residual 함수에 해당합니다. $h(x_{l}) = x_{l}$ 식은 identity mapping이고 f은 ReLU 함수 입니다. <br>\n",
    "100 layer가 넘는 ResNet은 높은 정확도로 몇몇 대회에서 좋은 정확도를 얻었습니다.\n",
    "ResNet의 핵심 idea는 각각의 $h(x_{l})$에 대하여 residual function 을 더하여 학습하는 것입니다. 여기서 identity mapping $h(x_{l}) = x_{l}$ 을 사용하는 것이 핵심입니다. identity mapping을 추가하는 것을 통하여 identity skip connection(\"shortcut\")이 만들어 집니다.\n",
    "\n",
    "이 논문을 통하여 볼 점은, 정보 전파를 위한 \"direct path\"를 만드는 것에 초점을 두어 Deep Residual Network를 분석하는 것입니다.\n",
    "\n",
    "\n"
   ]
  },
  {
   "cell_type": "code",
   "execution_count": null,
   "metadata": {},
   "outputs": [],
   "source": []
  }
 ],
 "metadata": {
  "anaconda-cloud": {},
  "kernelspec": {
   "display_name": "Python [conda root]",
   "language": "python",
   "name": "conda-root-py"
  },
  "language_info": {
   "codemirror_mode": {
    "name": "ipython",
    "version": 3
   },
   "file_extension": ".py",
   "mimetype": "text/x-python",
   "name": "python",
   "nbconvert_exporter": "python",
   "pygments_lexer": "ipython3",
   "version": "3.5.2"
  },
  "varInspector": {
   "cols": {
    "lenName": 16,
    "lenType": 16,
    "lenVar": 40
   },
   "kernels_config": {
    "python": {
     "delete_cmd_postfix": "",
     "delete_cmd_prefix": "del ",
     "library": "var_list.py",
     "varRefreshCmd": "print(var_dic_list())"
    },
    "r": {
     "delete_cmd_postfix": ") ",
     "delete_cmd_prefix": "rm(",
     "library": "var_list.r",
     "varRefreshCmd": "cat(var_dic_list()) "
    }
   },
   "types_to_exclude": [
    "module",
    "function",
    "builtin_function_or_method",
    "instance",
    "_Feature"
   ],
   "window_display": false
  }
 },
 "nbformat": 4,
 "nbformat_minor": 1
}
