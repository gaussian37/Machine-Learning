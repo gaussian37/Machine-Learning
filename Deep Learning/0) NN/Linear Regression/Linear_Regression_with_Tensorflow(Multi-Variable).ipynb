{
 "cells": [
  {
   "cell_type": "code",
   "execution_count": 2,
   "metadata": {
    "collapsed": false
   },
   "outputs": [
    {
     "name": "stdout",
     "output_type": "stream",
     "text": [
      "0 [array([[ 0.32722986,  0.48728824,  0.10733918]], dtype=float32), -1.9990172]\n",
      "5 [array([[ 0.30322662,  0.49977571,  0.09825362]], dtype=float32), -2.0027049]\n",
      "10 [array([[ 0.30322662,  0.49977568,  0.09825361]], dtype=float32), -2.0027049]\n",
      "15 [array([[ 0.30322662,  0.49977568,  0.09825361]], dtype=float32), -2.0027049]\n",
      "20 [array([[ 0.30322662,  0.49977568,  0.09825361]], dtype=float32), -2.0027049]\n",
      "w_real : [0.3, 0.5, 0.1] , b_real : -2\n"
     ]
    }
   ],
   "source": [
    "import tensorflow as tf\n",
    "import numpy as np\n",
    "import matplotlib.pyplot as plt\n",
    "\n",
    "# === Create data and simulate results =====\n",
    "x_data = np.random.randn(2000, 3)\n",
    "w_real = [0.3, 0.5, 0.1]\n",
    "b_real = -2.0\n",
    "\n",
    "noise = np.random.randn(1, 2000) * 0.1\n",
    "y_data = np.matmul(w_real, x_data.T) + b_real + noise\n",
    "\n",
    "NUM_STEPS = 20\n",
    "g = tf.Graph()\n",
    "\n",
    "x = tf.placeholder(tf.float32, shape=[None, 3])\n",
    "y_true = tf.placeholder(tf.float32, shape=None)\n",
    "\n",
    "w = tf.Variable([[0, 0, 0]], dtype = tf.float32, name = 'weights')\n",
    "b = tf.Variable(0, dtype = tf.float32, name = 'bias')\n",
    "y_pred = tf.matmul(w, tf.transpose(x)) + b\n",
    "\n",
    "loss = tf.reduce_mean(tf.square(y_true - y_pred))\n",
    "\n",
    "learning_rate = 0.5\n",
    "optimizer = tf.train.GradientDescentOptimizer(learning_rate)\n",
    "train = optimizer.minimize(loss)\n",
    "\n",
    "# Before starting, initialize the variables.  \n",
    "# We will 'run' this first\n",
    "init = tf.global_variables_initializer()\n",
    "with tf.Session() as sess:\n",
    "    sess.run(init)\n",
    "    for step in range(NUM_STEPS):   \n",
    "        sess.run(train, feed_dict = {x:x_data, y_true:y_data})\n",
    "        if step % 5 == 0:\n",
    "            print(step, sess.run([w, b]))\n",
    "            #wb_.append(sess.run([w, b]))\n",
    "    print(NUM_STEPS, sess.run([w, b]))\n",
    "    print('w_real : %s , b_real : %d' % (str(w_real), b_real))"
   ]
  }
 ],
 "metadata": {
  "anaconda-cloud": {},
  "kernelspec": {
   "display_name": "Python [conda root]",
   "language": "python",
   "name": "conda-root-py"
  },
  "language_info": {
   "codemirror_mode": {
    "name": "ipython",
    "version": 3
   },
   "file_extension": ".py",
   "mimetype": "text/x-python",
   "name": "python",
   "nbconvert_exporter": "python",
   "pygments_lexer": "ipython3",
   "version": "3.5.2"
  }
 },
 "nbformat": 4,
 "nbformat_minor": 1
}
