{
 "cells": [
  {
   "attachments": {},
   "cell_type": "markdown",
   "metadata": {},
   "source": [
    "## Odds Ratio\n",
    "\n",
    "해당 사건이 일어날 확률과 일어나지 않을 확률의 비율\n",
    "\n",
    "Odds Ratio = $\\frac{P(X)}{1 - P(X)}$\n",
    ": P(X) = 1에 수렴할 수록 무한대에 가까워 진다.\n",
    "\n",
    "![0](http://www.bisolutions.us/web/graphic/Relationship-between-Odds-and-Probability-of-an-event.jpg)\n",
    "\n",
    "## Logit function\n",
    "\n",
    "X의 값이 주어졌을 때 y의 확률을 이용한 log(odds)\n",
    "\n",
    "$logit(p(y=1|x)) = log_{e}\\big(\\frac{p}{1-p}\\big)$ = $log_{e}(p) - log_{e}(1-p) = -log_{e}\\big(\\frac{1}{p} - 1)$\n",
    "\n",
    "![1](http://www.bisolutions.us/web/graphic/Relationship-between-Log-Odds-and-Probability-of-an-event.jpg)\n",
    "\n",
    "### 확률을 output으로 하는 함수가 필요하다.\n",
    "\n",
    "## Sigmoid(=Logistic) Function\n",
    "\n",
    "Logit 함수의 역함수로 z에 관한 확률을 산출\n",
    "\n",
    "$f(z) = y = -log_{e}\\big(\\frac{1}{z} - 1\\big)$\n",
    "\n",
    "$z = -log_{e}\\big(\\frac{1}{y} - 1\\big)$\n",
    "\n",
    "$e^{-z} = \\frac{1-y}{y}$\n",
    "\n",
    "$y \\times e^{-z} + y = 1$\n",
    "\n",
    "$y(e^{-z} + 1) = 1$\n",
    "\n",
    "$y = \\frac{1}{1 + e^{-z}}$\n",
    "\n",
    "따라서 Logistic Function = Inverse of logit function\n",
    "\n",
    "+ Sigmoid function의 가장 큰 장점은 미분 가능한 연속구간으로 변환 가능\n",
    "\n",
    "![sigmoid](https://ml4a.github.io/images/figures/sigmoid.png)\n",
    "\n"
   ]
  },
  {
   "cell_type": "code",
   "execution_count": 1,
   "metadata": {
    "ExecuteTime": {
     "end_time": "2018-07-18T22:07:53.932694Z",
     "start_time": "2018-07-18T22:07:51.043911Z"
    }
   },
   "outputs": [],
   "source": [
    "import pandas as pd\n",
    "import matplotlib.pyplot as plt\n",
    "import numpy as np"
   ]
  },
  {
   "cell_type": "code",
   "execution_count": 3,
   "metadata": {
    "ExecuteTime": {
     "end_time": "2018-07-18T22:10:06.546686Z",
     "start_time": "2018-07-18T22:10:06.372578Z"
    }
   },
   "outputs": [
    {
     "data": {
      "image/png": "[encoded data removed]",
      "text/plain": [
       "<Figure size 432x288 with 1 Axes>"
      ]
     },
     "metadata": {},
     "output_type": "display_data"
    }
   ],
   "source": [
    "def sigmoid(x):    \n",
    "    return 1/(1 + np.exp(-x))\n",
    "\n",
    "x = np.arange(-10., 10., 0.2)\n",
    "sig = sigmoid(x)\n",
    "plt.plot(x,sig)\n",
    "plt.show()"
   ]
  },
  {
   "cell_type": "code",
   "execution_count": 23,
   "metadata": {
    "ExecuteTime": {
     "end_time": "2018-07-19T03:45:09.308429Z",
     "start_time": "2018-07-19T03:45:09.298509Z"
    }
   },
   "outputs": [
    {
     "data": {
      "text/html": [
       "<div>\n",
       "<table border=\"1\" class=\"dataframe\">\n",
       "  <thead>\n",
       "    <tr style=\"text-align: right;\">\n",
       "      <th></th>\n",
       "      <th>career</th>\n",
       "      <th>salary</th>\n",
       "      <th>paid</th>\n",
       "    </tr>\n",
       "  </thead>\n",
       "  <tbody>\n",
       "    <tr>\n",
       "      <th>0</th>\n",
       "      <td>0.7</td>\n",
       "      <td>48000.0</td>\n",
       "      <td>1.0</td>\n",
       "    </tr>\n",
       "    <tr>\n",
       "      <th>1</th>\n",
       "      <td>1.9</td>\n",
       "      <td>48000.0</td>\n",
       "      <td>0.0</td>\n",
       "    </tr>\n",
       "    <tr>\n",
       "      <th>2</th>\n",
       "      <td>2.5</td>\n",
       "      <td>60000.0</td>\n",
       "      <td>1.0</td>\n",
       "    </tr>\n",
       "    <tr>\n",
       "      <th>3</th>\n",
       "      <td>4.2</td>\n",
       "      <td>63000.0</td>\n",
       "      <td>0.0</td>\n",
       "    </tr>\n",
       "    <tr>\n",
       "      <th>4</th>\n",
       "      <td>6.0</td>\n",
       "      <td>76000.0</td>\n",
       "      <td>0.0</td>\n",
       "    </tr>\n",
       "  </tbody>\n",
       "</table>\n",
       "</div>"
      ],
      "text/plain": [
       "   career   salary  paid\n",
       "0     0.7  48000.0   1.0\n",
       "1     1.9  48000.0   0.0\n",
       "2     2.5  60000.0   1.0\n",
       "3     4.2  63000.0   0.0\n",
       "4     6.0  76000.0   0.0"
      ]
     },
     "execution_count": 23,
     "metadata": {},
     "output_type": "execute_result"
    }
   ],
   "source": [
    "df = pd.read_csv(\"./data/career_salary_paid.csv\")\n",
    "df.head()"
   ]
  },
  {
   "cell_type": "code",
   "execution_count": 40,
   "metadata": {
    "ExecuteTime": {
     "end_time": "2018-07-19T03:59:43.731515Z",
     "start_time": "2018-07-19T03:59:43.728562Z"
    }
   },
   "outputs": [],
   "source": [
    "data = np.array(df)"
   ]
  },
  {
   "cell_type": "code",
   "execution_count": 41,
   "metadata": {
    "ExecuteTime": {
     "end_time": "2018-07-19T04:00:23.730665Z",
     "start_time": "2018-07-19T04:00:23.727689Z"
    }
   },
   "outputs": [],
   "source": [
    "paid_data = data[np.where(data[:,2] == 1)]\n",
    "unpaid_data = data[np.where(data[:,2] == 0)]"
   ]
  },
  {
   "cell_type": "code",
   "execution_count": 42,
   "metadata": {
    "ExecuteTime": {
     "end_time": "2018-07-19T04:02:21.349863Z",
     "start_time": "2018-07-19T04:02:21.240744Z"
    }
   },
   "outputs": [
    {
     "data": {
      "image/png": "[encoded data removed]",
      "text/plain": [
       "<Figure size 432x288 with 1 Axes>"
      ]
     },
     "metadata": {},
     "output_type": "display_data"
    }
   ],
   "source": [
    "fig, ax = plt.subplots()\n",
    "\n",
    "x, y = paid_data[:,0], paid_data[:,1]\n",
    "ax.scatter(x, y, c=\"red\", s=scale, label=\"paid\",alpha=0.3)\n",
    "x, y = unpaid_data[:,0],unpaid_data[:,1]\n",
    "ax.scatter(x, y, c=\"blue\", s=scale, label=\"unpaid\", alpha=0.3, edgecolors='none')\n",
    "ax.legend()\n",
    "ax.grid(True)\n",
    "plt.show()"
   ]
  },
  {
   "cell_type": "code",
   "execution_count": 44,
   "metadata": {
    "ExecuteTime": {
     "end_time": "2018-07-19T04:31:30.294963Z",
     "start_time": "2018-07-19T04:31:30.287049Z"
    }
   },
   "outputs": [
    {
     "data": {
      "text/plain": [
       "array([[ 0.00861027,  0.04956583,  1.        ],\n",
       "       [ 0.02337075,  0.04956583,  0.        ],\n",
       "       [ 0.03075098,  0.06195729,  1.        ],\n",
       "       [ 0.05166165,  0.06505516,  0.        ],\n",
       "       [ 0.07380236,  0.07847924,  0.        ]])"
      ]
     },
     "execution_count": 44,
     "metadata": {},
     "output_type": "execute_result"
    }
   ],
   "source": [
    "from sklearn.preprocessing import normalize\n",
    "\n",
    "data[:, :2] = normalize(data[:, :2], axis=0)\n",
    "data[:5]"
   ]
  },
  {
   "cell_type": "code",
   "execution_count": 55,
   "metadata": {
    "ExecuteTime": {
     "end_time": "2018-07-19T04:39:58.731970Z",
     "start_time": "2018-07-19T04:39:58.727978Z"
    }
   },
   "outputs": [],
   "source": [
    "# Add x_0\n",
    "x_data = data[:,:2]\n",
    "x_data = np.insert(x_data, 0, 1, axis = 1)\n",
    "\n",
    "y_data = data[:,-1]\n",
    "y_data = y_data.reshape(y_data.shape[0], 1)"
   ]
  },
  {
   "cell_type": "code",
   "execution_count": 56,
   "metadata": {
    "ExecuteTime": {
     "end_time": "2018-07-19T04:39:59.004249Z",
     "start_time": "2018-07-19T04:39:59.000778Z"
    }
   },
   "outputs": [
    {
     "name": "stdout",
     "output_type": "stream",
     "text": [
      "(200, 3) (200, 1)\n"
     ]
    }
   ],
   "source": [
    "print(x_data.shape, y_data.shape)"
   ]
  },
  {
   "cell_type": "markdown",
   "metadata": {},
   "source": [
    "### Sigmoid\n",
    "\n",
    "$h_{\\theta}(x) = \\frac{1}{1+e^{-z}}$"
   ]
  },
  {
   "cell_type": "code",
   "execution_count": 57,
   "metadata": {
    "ExecuteTime": {
     "end_time": "2018-07-19T04:39:59.522610Z",
     "start_time": "2018-07-19T04:39:59.519608Z"
    }
   },
   "outputs": [],
   "source": [
    "def sigmoid(z):\n",
    "    return 1 / (1 + np.exp(-z))"
   ]
  },
  {
   "cell_type": "markdown",
   "metadata": {},
   "source": [
    "### Hypothesis function\n",
    "\n",
    "$h_{\\theta}(x) = \\frac{1}{1+e^{-\\theta^{T}x}}$"
   ]
  },
  {
   "cell_type": "code",
   "execution_count": 58,
   "metadata": {
    "ExecuteTime": {
     "end_time": "2018-07-19T04:40:00.266105Z",
     "start_time": "2018-07-19T04:40:00.263129Z"
    }
   },
   "outputs": [],
   "source": [
    "def hypothesis_function(x, theta):\n",
    "    z = (np.dot(x,theta))    \n",
    "    return sigmoid(z)"
   ]
  },
  {
   "cell_type": "markdown",
   "metadata": {},
   "source": [
    "### Cost function\n",
    "\n",
    "$J(\\theta) = -\\frac{1}{m}\\Sigma_{i=1}^{m}[y^{(i)}log h_{\\theta}(x^{(i)}) + (1-y^{(i)})log(1 - h_{\\theta}(x^{(i)}))] $"
   ]
  },
  {
   "cell_type": "code",
   "execution_count": 59,
   "metadata": {
    "ExecuteTime": {
     "end_time": "2018-07-19T04:40:00.923310Z",
     "start_time": "2018-07-19T04:40:00.918846Z"
    }
   },
   "outputs": [],
   "source": [
    "def compute_cost(x, y, theta):\n",
    "    m = y.shape[0]\n",
    "    J = (-1.0 /m )* (y * np.log(hypothesis_function(x,theta)) + \\\n",
    "        + (1 - y) * np.log(1- hypothesis_function(x,theta))).sum()    \n",
    "    return J"
   ]
  },
  {
   "cell_type": "code",
   "execution_count": 60,
   "metadata": {
    "ExecuteTime": {
     "end_time": "2018-07-19T04:40:01.261852Z",
     "start_time": "2018-07-19T04:40:01.246944Z"
    }
   },
   "outputs": [],
   "source": [
    "def minimize_gradient(x, y, theta, iterations=100000, alpha=0.01):\n",
    "    m = y.size\n",
    "    cost_history = []\n",
    "    theta_history = []\n",
    "    \n",
    "    for _ in range(iterations):\n",
    "        original_theta = theta\n",
    "        for i in range(theta.size):\n",
    "            partial_marginal = x[:, i].reshape(x.shape[0], 1) # x_{j}^{i}\n",
    "            delta = hypothesis_function(x, original_theta) - y # h(x) - y\n",
    "            grad_i = delta.T.dot(partial_marginal) \n",
    "            \n",
    "            theta[i] = theta[i] - (alpha  * grad_i)\n",
    "        \n",
    "        if (_ % 100) == 0:\n",
    "            theta_history.append(theta)\n",
    "            cost_history.append(compute_cost(x, y, theta))\n",
    "\n",
    "    return theta, np.array(cost_history), np.array(theta_history)"
   ]
  },
  {
   "cell_type": "code",
   "execution_count": 61,
   "metadata": {
    "ExecuteTime": {
     "end_time": "2018-07-19T04:40:02.858042Z",
     "start_time": "2018-07-19T04:40:02.502904Z"
    }
   },
   "outputs": [],
   "source": [
    "theta_initial = np.ones([3,1])\n",
    "theta, cost_history, theta_history = minimize_gradient(\n",
    "    x_data, y_data, theta_initial, 10000, 0.001)"
   ]
  },
  {
   "cell_type": "code",
   "execution_count": 62,
   "metadata": {
    "ExecuteTime": {
     "end_time": "2018-07-19T04:40:12.266669Z",
     "start_time": "2018-07-19T04:40:12.263197Z"
    }
   },
   "outputs": [
    {
     "data": {
      "text/plain": [
       "array([[-1.28927068],\n",
       "       [ 6.59202529],\n",
       "       [-2.48947029]])"
      ]
     },
     "execution_count": 62,
     "metadata": {},
     "output_type": "execute_result"
    }
   ],
   "source": [
    "theta"
   ]
  },
  {
   "cell_type": "code",
   "execution_count": 64,
   "metadata": {
    "ExecuteTime": {
     "end_time": "2018-07-19T04:41:42.829191Z",
     "start_time": "2018-07-19T04:41:42.824231Z"
    }
   },
   "outputs": [
    {
     "data": {
      "text/plain": [
       "array([ 0.74])"
      ]
     },
     "execution_count": 64,
     "metadata": {},
     "output_type": "execute_result"
    }
   ],
   "source": [
    "sum((sigmoid(x_data.dot(theta)) > 0.5) == y_data) / len(y_data)"
   ]
  },
  {
   "cell_type": "code",
   "execution_count": null,
   "metadata": {},
   "outputs": [],
   "source": []
  }
 ],
 "metadata": {
  "anaconda-cloud": {},
  "kernelspec": {
   "display_name": "Python [default]",
   "language": "python",
   "name": "python3"
  },
  "language_info": {
   "codemirror_mode": {
    "name": "ipython",
    "version": 3
   },
   "file_extension": ".py",
   "mimetype": "text/x-python",
   "name": "python",
   "nbconvert_exporter": "python",
   "pygments_lexer": "ipython3",
   "version": "3.5.2"
  },
  "varInspector": {
   "cols": {
    "lenName": 16,
    "lenType": 16,
    "lenVar": 40
   },
   "kernels_config": {
    "python": {
     "delete_cmd_postfix": "",
     "delete_cmd_prefix": "del ",
     "library": "var_list.py",
     "varRefreshCmd": "print(var_dic_list())"
    },
    "r": {
     "delete_cmd_postfix": ") ",
     "delete_cmd_prefix": "rm(",
     "library": "var_list.r",
     "varRefreshCmd": "cat(var_dic_list()) "
    }
   },
   "types_to_exclude": [
    "module",
    "function",
    "builtin_function_or_method",
    "instance",
    "_Feature"
   ],
   "window_display": false
  }
 },
 "nbformat": 4,
 "nbformat_minor": 1
}
