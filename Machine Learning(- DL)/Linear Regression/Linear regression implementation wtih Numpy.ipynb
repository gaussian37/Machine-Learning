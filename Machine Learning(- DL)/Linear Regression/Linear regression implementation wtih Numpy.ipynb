{
 "cells": [
  {
   "cell_type": "markdown",
   "metadata": {},
   "source": [
    "# Linear regression with one variable with Numpy"
   ]
  },
  {
   "cell_type": "code",
   "execution_count": 14,
   "metadata": {
    "ExecuteTime": {
     "end_time": "2018-06-10T14:15:16.391107Z",
     "start_time": "2018-06-10T14:15:16.385096Z"
    }
   },
   "outputs": [],
   "source": [
    "import matplotlib.pyplot as plt\n",
    "%matplotlib inline\n",
    "\n",
    "import pandas as pd\n",
    "import numpy as np"
   ]
  },
  {
   "cell_type": "markdown",
   "metadata": {},
   "source": [
    "## Load Data\n",
    "\n",
    "- X = number of claims\n",
    "- Y = total payment for all the claims in thousands of Swedish Kronor\n",
    "\n",
    "[데이터 출처](http://college.cengage.com/mathematics/brase/understandable_statistics/7e/students/datasets/slr/frames/frame.html)"
   ]
  },
  {
   "cell_type": "code",
   "execution_count": 15,
   "metadata": {
    "ExecuteTime": {
     "end_time": "2018-06-10T14:15:17.585884Z",
     "start_time": "2018-06-10T14:15:17.577906Z"
    }
   },
   "outputs": [
    {
     "name": "stdout",
     "output_type": "stream",
     "text": [
      "63 number of data\n"
     ]
    },
    {
     "data": {
      "text/html": [
       "<div>\n",
       "<table border=\"1\" class=\"dataframe\">\n",
       "  <thead>\n",
       "    <tr style=\"text-align: right;\">\n",
       "      <th></th>\n",
       "      <th>X</th>\n",
       "      <th>Y</th>\n",
       "    </tr>\n",
       "  </thead>\n",
       "  <tbody>\n",
       "    <tr>\n",
       "      <th>0</th>\n",
       "      <td>108</td>\n",
       "      <td>392.5</td>\n",
       "    </tr>\n",
       "    <tr>\n",
       "      <th>1</th>\n",
       "      <td>19</td>\n",
       "      <td>46.2</td>\n",
       "    </tr>\n",
       "    <tr>\n",
       "      <th>2</th>\n",
       "      <td>13</td>\n",
       "      <td>15.7</td>\n",
       "    </tr>\n",
       "    <tr>\n",
       "      <th>3</th>\n",
       "      <td>124</td>\n",
       "      <td>422.2</td>\n",
       "    </tr>\n",
       "    <tr>\n",
       "      <th>4</th>\n",
       "      <td>40</td>\n",
       "      <td>119.4</td>\n",
       "    </tr>\n",
       "  </tbody>\n",
       "</table>\n",
       "</div>"
      ],
      "text/plain": [
       "     X      Y\n",
       "0  108  392.5\n",
       "1   19   46.2\n",
       "2   13   15.7\n",
       "3  124  422.2\n",
       "4   40  119.4"
      ]
     },
     "execution_count": 15,
     "metadata": {},
     "output_type": "execute_result"
    }
   ],
   "source": [
    "df = pd.read_csv('data/slr06.csv')\n",
    "print(str(len(df)) + \" number of data\")\n",
    "df.head()"
   ]
  },
  {
   "cell_type": "code",
   "execution_count": 16,
   "metadata": {
    "ExecuteTime": {
     "end_time": "2018-06-10T14:15:18.175336Z",
     "start_time": "2018-06-10T14:15:18.172316Z"
    }
   },
   "outputs": [
    {
     "data": {
      "text/plain": [
       "(63,)"
      ]
     },
     "execution_count": 16,
     "metadata": {},
     "output_type": "execute_result"
    }
   ],
   "source": [
    "df[\"X\"].shape"
   ]
  },
  {
   "cell_type": "markdown",
   "metadata": {},
   "source": [
    "계산 편의를(concaternate) 위하여 1-dim의 X데이터를 2-dim으로 바꾸어 보겠습니다."
   ]
  },
  {
   "cell_type": "code",
   "execution_count": 23,
   "metadata": {
    "ExecuteTime": {
     "end_time": "2018-06-10T14:23:54.500226Z",
     "start_time": "2018-06-10T14:23:54.497207Z"
    }
   },
   "outputs": [],
   "source": [
    "raw_x = df[\"X\"].values.reshape(-1, 1)\n",
    "y = df[\"Y\"].values"
   ]
  },
  {
   "cell_type": "code",
   "execution_count": 26,
   "metadata": {
    "ExecuteTime": {
     "end_time": "2018-06-10T14:24:01.747816Z",
     "start_time": "2018-06-10T14:24:01.744854Z"
    }
   },
   "outputs": [
    {
     "name": "stdout",
     "output_type": "stream",
     "text": [
      "(63,)\n",
      "(63, 1)\n"
     ]
    }
   ],
   "source": [
    "print(df[\"X\"].shape)\n",
    "print(raw_x.shape)"
   ]
  },
  {
   "cell_type": "code",
   "execution_count": 27,
   "metadata": {
    "ExecuteTime": {
     "end_time": "2018-06-10T14:24:02.255459Z",
     "start_time": "2018-06-10T14:24:02.177666Z"
    }
   },
   "outputs": [
    {
     "data": {
      "text/plain": [
       "[<matplotlib.lines.Line2D at 0x211d0f25588>]"
      ]
     },
     "execution_count": 27,
     "metadata": {},
     "output_type": "execute_result"
    },
    {
     "data": {
      "image/png": "[encoded data removed]",
      "text/plain": [
       "<Figure size 720x360 with 1 Axes>"
      ]
     },
     "metadata": {},
     "output_type": "display_data"
    }
   ],
   "source": [
    "plt.figure(figsize=(10, 5))\n",
    "plt.plot(raw_x, y, 'o', alpha = 0.5)"
   ]
  },
  {
   "cell_type": "code",
   "execution_count": 31,
   "metadata": {
    "ExecuteTime": {
     "end_time": "2018-06-10T14:25:44.637112Z",
     "start_time": "2018-06-10T14:25:44.633122Z"
    }
   },
   "outputs": [
    {
     "data": {
      "text/plain": [
       "array([[108],\n",
       "       [ 19],\n",
       "       [ 13],\n",
       "       [124],\n",
       "       [ 40]], dtype=int64)"
      ]
     },
     "execution_count": 31,
     "metadata": {},
     "output_type": "execute_result"
    }
   ],
   "source": [
    "raw_x[:5]"
   ]
  },
  {
   "cell_type": "markdown",
   "metadata": {},
   "source": [
    "상수항과 x값을 합하여 입력 데이터 X를 만들어 줍니다."
   ]
  },
  {
   "cell_type": "code",
   "execution_count": 30,
   "metadata": {
    "ExecuteTime": {
     "end_time": "2018-06-10T14:25:27.580752Z",
     "start_time": "2018-06-10T14:25:27.576762Z"
    }
   },
   "outputs": [
    {
     "data": {
      "text/plain": [
       "array([[  1., 108.],\n",
       "       [  1.,  19.],\n",
       "       [  1.,  13.],\n",
       "       [  1., 124.],\n",
       "       [  1.,  40.]])"
      ]
     },
     "execution_count": 30,
     "metadata": {},
     "output_type": "execute_result"
    }
   ],
   "source": [
    "X = np.concatenate( (np.ones((len(raw_x), 1)), raw_x), axis = 1)\n",
    "X[:5]"
   ]
  },
  {
   "cell_type": "markdown",
   "metadata": {},
   "source": [
    "w를 초기화 해줍니다."
   ]
  },
  {
   "cell_type": "code",
   "execution_count": 32,
   "metadata": {
    "ExecuteTime": {
     "end_time": "2018-06-10T14:32:34.032966Z",
     "start_time": "2018-06-10T14:32:34.024958Z"
    }
   },
   "outputs": [
    {
     "name": "stdout",
     "output_type": "stream",
     "text": [
      "[2.07676129 2.17929138]\n"
     ]
    }
   ],
   "source": [
    "w = np.random.normal((2,1))\n",
    "print(w)"
   ]
  },
  {
   "cell_type": "code",
   "execution_count": 34,
   "metadata": {
    "ExecuteTime": {
     "end_time": "2018-06-10T14:34:48.692886Z",
     "start_time": "2018-06-10T14:34:48.625067Z"
    }
   },
   "outputs": [
    {
     "data": {
      "text/plain": [
       "[<matplotlib.lines.Line2D at 0x211d30df390>]"
      ]
     },
     "execution_count": 34,
     "metadata": {},
     "output_type": "execute_result"
    },
    {
     "data": {
      "image/png": "[encoded data removed]",
      "text/plain": [
       "<Figure size 432x288 with 1 Axes>"
      ]
     },
     "metadata": {},
     "output_type": "display_data"
    }
   ],
   "source": [
    "y_predict = np.dot(X, w) # y^ = Xw\n",
    "plt.plot(raw_x, y, \"o\", alpha = 0.5)\n",
    "plt.plot(raw_x, y_predict)"
   ]
  },
  {
   "cell_type": "code",
   "execution_count": 39,
   "metadata": {
    "ExecuteTime": {
     "end_time": "2018-06-10T14:46:21.828657Z",
     "start_time": "2018-06-10T14:46:21.824668Z"
    }
   },
   "outputs": [],
   "source": [
    "# f(x) = h_theta(x, weight)\n",
    "def hypothesis_function(X, weight):\n",
    "    return X.dot(weight)"
   ]
  },
  {
   "cell_type": "markdown",
   "metadata": {},
   "source": [
    "결과는 1-dim의 vector 형태로 나오게 됩니다."
   ]
  },
  {
   "cell_type": "code",
   "execution_count": 40,
   "metadata": {
    "ExecuteTime": {
     "end_time": "2018-06-10T14:46:22.924726Z",
     "start_time": "2018-06-10T14:46:22.920736Z"
    }
   },
   "outputs": [
    {
     "data": {
      "text/plain": [
       "array([237.44023052,  43.48329754,  30.40754925, 272.30889263,\n",
       "        89.24841656])"
      ]
     },
     "execution_count": 40,
     "metadata": {},
     "output_type": "execute_result"
    }
   ],
   "source": [
    "hypothesis_function(X, w)[:5]"
   ]
  },
  {
   "cell_type": "markdown",
   "metadata": {},
   "source": [
    "$J(w_{0}, w_{1}) = \\frac{1}{2m}\\Sigma^{m}_{i=1}(h_{\\theta}(x^{(i)}) - y^{(i)})^{2}$"
   ]
  },
  {
   "cell_type": "code",
   "execution_count": 41,
   "metadata": {
    "ExecuteTime": {
     "end_time": "2018-06-10T14:46:24.140500Z",
     "start_time": "2018-06-10T14:46:24.136485Z"
    }
   },
   "outputs": [],
   "source": [
    "def cost_function(h, y):\n",
    "    return (1/2*len(y)) * np.sum((h-y)**2)"
   ]
  },
  {
   "cell_type": "code",
   "execution_count": 42,
   "metadata": {
    "ExecuteTime": {
     "end_time": "2018-06-10T14:46:35.594867Z",
     "start_time": "2018-06-10T14:46:35.591849Z"
    }
   },
   "outputs": [
    {
     "data": {
      "text/plain": [
       "8339994.579797417"
      ]
     },
     "execution_count": 42,
     "metadata": {},
     "output_type": "execute_result"
    }
   ],
   "source": [
    "h = hypothesis_function(X, w)\n",
    "cost_function(h, y)"
   ]
  },
  {
   "cell_type": "markdown",
   "metadata": {},
   "source": [
    "아래 gradient_descent 함수에 대한 보충 설명\n",
    "- $f(x) = h_{\\theta}(x)$\n",
    "- $J(w_{0}, w_{1}) = \\frac{1}{2m}\\Sigma^{m}_{i=1}(h_{\\theta}(x^{(i)}) - y^{(i)})^{2}$\n",
    "- $\\frac{\\partial J}{\\partial w_{0}} = \\frac{1}{m}\\Sigma^{m}_{i=1}(w_{1}x^{(i)} + w_{0} - y^{(i)}) $\n",
    "- $\\frac{\\partial J}{\\partial w_{w}} = \\frac{1}{m}\\Sigma^{m}_{i=1}(w_{1}x^{(i)} + w_{0} - y^{(i)})x^{(i)} $"
   ]
  },
  {
   "cell_type": "code",
   "execution_count": 67,
   "metadata": {
    "ExecuteTime": {
     "end_time": "2018-06-10T15:34:44.882725Z",
     "start_time": "2018-06-10T15:34:44.862785Z"
    }
   },
   "outputs": [],
   "source": [
    "# X : input X\n",
    "# y : output y\n",
    "# w : weight\n",
    "# alpha : learning rate\n",
    "# iteration : the number of iteration\n",
    "def gradient_descent(X, y, weight, alpha, iterations):    \n",
    "    w = weight\n",
    "    m = len(y) # the number of data\n",
    "    w_list = [w.tolist()]    \n",
    "    cost = cost_function(hypothesis_function(X, w), y)\n",
    "    cost_list = [cost]\n",
    "    \n",
    "    for i in range(iterations):\n",
    "        w0 = w[0] - alpha / m * np.sum(np.dot(X, w) - y)\n",
    "        w1 = w[1] - alpha / m * np.sum((np.dot(X, w) - y) * X[:,1])\n",
    "        w = np.array([w0, w1])\n",
    "        \n",
    "        if i % 10 == 0:\n",
    "            w_list.append(w.tolist())\n",
    "            cost = cost_function(hypothesis_function(X, w), y)\n",
    "            cost_list.append(cost)\n",
    "            \n",
    "    return w, w_list, cost_list            "
   ]
  },
  {
   "cell_type": "code",
   "execution_count": 68,
   "metadata": {
    "ExecuteTime": {
     "end_time": "2018-06-10T15:34:45.448239Z",
     "start_time": "2018-06-10T15:34:45.319557Z"
    }
   },
   "outputs": [
    {
     "name": "stdout",
     "output_type": "stream",
     "text": [
      "Weight :  [19.88050903  3.41628459]\n",
      "Cost :  2482110.3949830425\n"
     ]
    }
   ],
   "source": [
    "iterations = 10000\n",
    "alpha = 0.001\n",
    "\n",
    "w, w_list, cost_list = gradient_descent(X, y, w, alpha, iterations)\n",
    "cost = cost_function(hypothesis_function(X, w), y)\n",
    "\n",
    "print(\"Weight : \", w)\n",
    "print(\"Cost : \", cost)"
   ]
  },
  {
   "cell_type": "code",
   "execution_count": 69,
   "metadata": {
    "ExecuteTime": {
     "end_time": "2018-06-10T15:35:16.059345Z",
     "start_time": "2018-06-10T15:35:16.055357Z"
    }
   },
   "outputs": [
    {
     "data": {
      "text/plain": [
       "[[2.0767612892441285, 2.179291381749789],\n",
       " [2.1229556793221076, 3.899883959280711],\n",
       " [2.210927884326263, 3.797812747737767],\n",
       " [2.3006074936475636, 3.7958763523000334],\n",
       " [2.3898348631873407, 3.7939497217917366],\n",
       " [2.4786122735177494, 3.7920328069698344],\n",
       " [2.566941993710389, 3.79012555883969],\n",
       " [2.654826281394298, 3.7882279286537384],\n",
       " [2.7422673828136546, 3.7863398679102405],\n",
       " [2.8292675328851913, 3.7844613283520454]]"
      ]
     },
     "execution_count": 69,
     "metadata": {},
     "output_type": "execute_result"
    }
   ],
   "source": [
    "w_list[:10]"
   ]
  },
  {
   "cell_type": "code",
   "execution_count": 70,
   "metadata": {
    "ExecuteTime": {
     "end_time": "2018-06-10T15:35:29.289961Z",
     "start_time": "2018-06-10T15:35:29.285972Z"
    }
   },
   "outputs": [
    {
     "data": {
      "text/plain": [
       "[8339994.579797417,\n",
       " 2823817.0592016233,\n",
       " 2799458.2944025565,\n",
       " 2796265.565108078,\n",
       " 2793104.955457846,\n",
       " 2789976.1423203195,\n",
       " 2786878.8058147356,\n",
       " 2783812.6292784126,\n",
       " 2780777.299234373,\n",
       " 2777772.505359296]"
      ]
     },
     "execution_count": 70,
     "metadata": {},
     "output_type": "execute_result"
    }
   ],
   "source": [
    "cost_list[:10]"
   ]
  },
  {
   "cell_type": "code",
   "execution_count": 76,
   "metadata": {
    "ExecuteTime": {
     "end_time": "2018-06-10T16:07:28.721207Z",
     "start_time": "2018-06-10T16:07:28.717217Z"
    }
   },
   "outputs": [],
   "source": [
    "w_list = np.array(w_list)"
   ]
  },
  {
   "cell_type": "code",
   "execution_count": 78,
   "metadata": {
    "ExecuteTime": {
     "end_time": "2018-06-10T16:07:49.546538Z",
     "start_time": "2018-06-10T16:07:49.542523Z"
    }
   },
   "outputs": [
    {
     "data": {
      "text/plain": [
       "(2, 1001)"
      ]
     },
     "execution_count": 78,
     "metadata": {},
     "output_type": "execute_result"
    }
   ],
   "source": [
    "w_list.transpose().shape"
   ]
  },
  {
   "cell_type": "code",
   "execution_count": 91,
   "metadata": {
    "ExecuteTime": {
     "end_time": "2018-06-10T16:16:21.668874Z",
     "start_time": "2018-06-10T16:16:21.486299Z"
    }
   },
   "outputs": [
    {
     "data": {
      "image/png": "[encoded data removed]",
      "text/plain": [
       "<Figure size 720x360 with 1 Axes>"
      ]
     },
     "metadata": {},
     "output_type": "display_data"
    }
   ],
   "source": [
    "plt.figure(figsize=(10, 5))\n",
    "\n",
    "y_predict_step = np.dot(X, w_list.transpose())\n",
    "plt.plot(raw_x, y, \"o\", alpha = 0.5)\n",
    "for i in range(0, len(w_list), 100):\n",
    "    plt.plot(raw_x, y_predict_step[:, i], label = 'Line %d' %i)\n",
    "plt.legend(bbox_to_anchor = (1.05, 1), loc = 2, borderaxespad = 0)\n",
    "plt.show()"
   ]
  },
  {
   "cell_type": "code",
   "execution_count": 86,
   "metadata": {
    "ExecuteTime": {
     "end_time": "2018-06-10T16:12:02.185599Z",
     "start_time": "2018-06-10T16:12:02.181611Z"
    }
   },
   "outputs": [
    {
     "data": {
      "text/plain": [
       "(63, 1001)"
      ]
     },
     "execution_count": 86,
     "metadata": {},
     "output_type": "execute_result"
    }
   ],
   "source": [
    "np.dot(X, w_list.transpose()).shape"
   ]
  }
 ],
 "metadata": {
  "anaconda-cloud": {},
  "kernelspec": {
   "display_name": "Python [conda root]",
   "language": "python",
   "name": "conda-root-py"
  },
  "language_info": {
   "codemirror_mode": {
    "name": "ipython",
    "version": 3
   },
   "file_extension": ".py",
   "mimetype": "text/x-python",
   "name": "python",
   "nbconvert_exporter": "python",
   "pygments_lexer": "ipython3",
   "version": "3.5.2"
  },
  "varInspector": {
   "cols": {
    "lenName": 16,
    "lenType": 16,
    "lenVar": 40
   },
   "kernels_config": {
    "python": {
     "delete_cmd_postfix": "",
     "delete_cmd_prefix": "del ",
     "library": "var_list.py",
     "varRefreshCmd": "print(var_dic_list())"
    },
    "r": {
     "delete_cmd_postfix": ") ",
     "delete_cmd_prefix": "rm(",
     "library": "var_list.r",
     "varRefreshCmd": "cat(var_dic_list()) "
    }
   },
   "types_to_exclude": [
    "module",
    "function",
    "builtin_function_or_method",
    "instance",
    "_Feature"
   ],
   "window_display": false
  }
 },
 "nbformat": 4,
 "nbformat_minor": 1
}
