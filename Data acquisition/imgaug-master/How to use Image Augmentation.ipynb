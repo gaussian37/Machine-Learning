{
 "cells": [
  {
   "cell_type": "markdown",
   "metadata": {},
   "source": [
    "## Image Augmentation 사용 예 ##\n",
    "\n",
    "원본 링크 : https://github.com/gaussian37/imgaug"
   ]
  },
  {
   "cell_type": "code",
   "execution_count": 2,
   "metadata": {
    "collapsed": false
   },
   "outputs": [
    {
     "data": {
      "text/plain": [
       "(433, 770, 3)"
      ]
     },
     "execution_count": 2,
     "metadata": {},
     "output_type": "execute_result"
    }
   ],
   "source": [
    "import cv2\n",
    "images = cv2.imread('ioniq.jpg')\n",
    "images.shape"
   ]
  },
  {
   "cell_type": "code",
   "execution_count": 3,
   "metadata": {
    "collapsed": false
   },
   "outputs": [],
   "source": [
    "import imgaug as ia\n",
    "from imgaug import augmenters as iaa\n",
    "import numpy as np\n",
    "\n",
    "ia.seed(1)\n",
    "\n",
    "# Example batch of images.\n",
    "# The array has shape (32, 64, 64, 3) and dtype uint8.\n",
    "images = np.array(\n",
    "    [images for _ in range(100)],\n",
    "    dtype=np.uint8\n",
    ")\n",
    "\n",
    "# Sometimes(0.5, ...) applies the given augmenter in 50% of all cases,\n",
    "# e.g. Sometimes(0.5, GaussianBlur(0.3)) would blur roughly every second\n",
    "# image.\n",
    "sometimes = lambda aug: iaa.Sometimes(0.5, aug)\n",
    "\n",
    "# Define our sequence of augmentation steps that will be applied to every image.\n",
    "seq = iaa.Sequential(\n",
    "    [\n",
    "        #\n",
    "        # Apply the following augmenters to most images.\n",
    "        #\n",
    "        iaa.Fliplr(0.5), # horizontally flip 50% of all images\n",
    "        iaa.Flipud(0.2), # vertically flip 20% of all images\n",
    "\n",
    "        # crop some of the images by 0-10% of their height/width\n",
    "        sometimes(iaa.Crop(percent=(0, 0.1))),\n",
    "\n",
    "        # Apply affine transformations to some of the images\n",
    "        # - scale to 80-120% of image height/width (each axis independently)\n",
    "        # - translate by -20 to +20 relative to height/width (per axis)\n",
    "        # - rotate by -45 to +45 degrees\n",
    "        # - shear by -16 to +16 degrees\n",
    "        # - order: use nearest neighbour or bilinear interpolation (fast)\n",
    "        # - mode: use any available mode to fill newly created pixels\n",
    "        #         see API or scikit-image for which modes are available\n",
    "        # - cval: if the mode is constant, then use a random brightness\n",
    "        #         for the newly created pixels (e.g. sometimes black,\n",
    "        #         sometimes white)\n",
    "        sometimes(iaa.Affine(\n",
    "            scale={\"x\": (0.8, 1.2), \"y\": (0.8, 1.2)},\n",
    "            translate_percent={\"x\": (-0.2, 0.2), \"y\": (-0.2, 0.2)},\n",
    "            rotate=(-45, 45),\n",
    "            shear=(-16, 16),\n",
    "            order=[0, 1],\n",
    "            cval=(0, 255),\n",
    "            mode=ia.ALL\n",
    "        )),\n",
    "\n",
    "        #\n",
    "        # Execute 0 to 5 of the following (less important) augmenters per\n",
    "        # image. Don't execute all of them, as that would often be way too\n",
    "        # strong.\n",
    "        #\n",
    "        iaa.SomeOf((0, 5),\n",
    "            [\n",
    "                # Convert some images into their superpixel representation,\n",
    "                # sample between 20 and 200 superpixels per image, but do\n",
    "                # not replace all superpixels with their average, only\n",
    "                # some of them (p_replace).\n",
    "                sometimes(\n",
    "                    iaa.Superpixels(\n",
    "                        p_replace=(0, 1.0),\n",
    "                        n_segments=(20, 200)\n",
    "                    )\n",
    "                ),\n",
    "\n",
    "                # Blur each image with varying strength using\n",
    "                # gaussian blur (sigma between 0 and 3.0),\n",
    "                # average/uniform blur (kernel size between 2x2 and 7x7)\n",
    "                # median blur (kernel size between 3x3 and 11x11).\n",
    "                iaa.OneOf([\n",
    "                    iaa.GaussianBlur((0, 3.0)),\n",
    "                    iaa.AverageBlur(k=(2, 7)),\n",
    "                    iaa.MedianBlur(k=(3, 11)),\n",
    "                ]),\n",
    "\n",
    "                # Sharpen each image, overlay the result with the original\n",
    "                # image using an alpha between 0 (no sharpening) and 1\n",
    "                # (full sharpening effect).\n",
    "                iaa.Sharpen(alpha=(0, 1.0), lightness=(0.75, 1.5)),\n",
    "\n",
    "                # Same as sharpen, but for an embossing effect.\n",
    "                iaa.Emboss(alpha=(0, 1.0), strength=(0, 2.0)),\n",
    "\n",
    "                # Search in some images either for all edges or for\n",
    "                # directed edges. These edges are then marked in a black\n",
    "                # and white image and overlayed with the original image\n",
    "                # using an alpha of 0 to 0.7.\n",
    "                sometimes(iaa.OneOf([\n",
    "                    iaa.EdgeDetect(alpha=(0, 0.7)),\n",
    "                    iaa.DirectedEdgeDetect(\n",
    "                        alpha=(0, 0.7), direction=(0.0, 1.0)\n",
    "                    ),\n",
    "                ])),\n",
    "\n",
    "                # Add gaussian noise to some images.\n",
    "                # In 50% of these cases, the noise is randomly sampled per\n",
    "                # channel and pixel.\n",
    "                # In the other 50% of all cases it is sampled once per\n",
    "                # pixel (i.e. brightness change).\n",
    "                iaa.AdditiveGaussianNoise(\n",
    "                    loc=0, scale=(0.0, 0.05*255), per_channel=0.5\n",
    "                ),\n",
    "\n",
    "                # Either drop randomly 1 to 10% of all pixels (i.e. set\n",
    "                # them to black) or drop them on an image with 2-5% percent\n",
    "                # of the original size, leading to large dropped\n",
    "                # rectangles.\n",
    "                iaa.OneOf([\n",
    "                    iaa.Dropout((0.01, 0.1), per_channel=0.5),\n",
    "                    iaa.CoarseDropout(\n",
    "                        (0.03, 0.15), size_percent=(0.02, 0.05),\n",
    "                        per_channel=0.2\n",
    "                    ),\n",
    "                ]),\n",
    "\n",
    "                # Invert each image's chanell with 5% probability.\n",
    "                # This sets each pixel value v to 255-v.\n",
    "                iaa.Invert(0.05, per_channel=True), # invert color channels\n",
    "\n",
    "                # Add a value of -10 to 10 to each pixel.\n",
    "                iaa.Add((-10, 10), per_channel=0.5),\n",
    "\n",
    "                # Change brightness of images (50-150% of original value).\n",
    "                iaa.Multiply((0.5, 1.5), per_channel=0.5),\n",
    "\n",
    "                # Improve or worsen the contrast of images.\n",
    "                iaa.ContrastNormalization((0.5, 2.0), per_channel=0.5),\n",
    "\n",
    "                # Convert each image to grayscale and then overlay the\n",
    "                # result with the original with random alpha. I.e. remove\n",
    "                # colors with varying strengths.\n",
    "                iaa.Grayscale(alpha=(0.0, 1.0)),\n",
    "\n",
    "                # In some images move pixels locally around (with random\n",
    "                # strengths).\n",
    "                sometimes(\n",
    "                    iaa.ElasticTransformation(alpha=(0.5, 3.5), sigma=0.25)\n",
    "                ),\n",
    "\n",
    "                # In some images distort local areas with varying strength.\n",
    "                sometimes(iaa.PiecewiseAffine(scale=(0.01, 0.05)))\n",
    "            ],\n",
    "            # do all of the above augmentations in random order\n",
    "            random_order=True\n",
    "        )\n",
    "    ],\n",
    "    # do all of the above augmentations in random order\n",
    "    random_order=True\n",
    ")\n",
    "\n",
    "images_aug = seq.augment_images(images)"
   ]
  },
  {
   "cell_type": "code",
   "execution_count": 4,
   "metadata": {
    "collapsed": false
   },
   "outputs": [
    {
     "data": {
      "text/plain": [
       "(100, 433, 770, 3)"
      ]
     },
     "execution_count": 4,
     "metadata": {},
     "output_type": "execute_result"
    }
   ],
   "source": [
    "images_aug.shape"
   ]
  }
 ],
 "metadata": {
  "anaconda-cloud": {},
  "kernelspec": {
   "display_name": "Python [conda root]",
   "language": "python",
   "name": "conda-root-py"
  },
  "language_info": {
   "codemirror_mode": {
    "name": "ipython",
    "version": 3
   },
   "file_extension": ".py",
   "mimetype": "text/x-python",
   "name": "python",
   "nbconvert_exporter": "python",
   "pygments_lexer": "ipython3",
   "version": "3.5.2"
  },
  "varInspector": {
   "cols": {
    "lenName": 16,
    "lenType": 16,
    "lenVar": 40
   },
   "kernels_config": {
    "python": {
     "delete_cmd_postfix": "",
     "delete_cmd_prefix": "del ",
     "library": "var_list.py",
     "varRefreshCmd": "print(var_dic_list())"
    },
    "r": {
     "delete_cmd_postfix": ") ",
     "delete_cmd_prefix": "rm(",
     "library": "var_list.r",
     "varRefreshCmd": "cat(var_dic_list()) "
    }
   },
   "oldHeight": 196.4,
   "position": {
    "height": "40px",
    "left": "960.4px",
    "right": "20px",
    "top": "-1px",
    "width": "496px"
   },
   "types_to_exclude": [
    "module",
    "function",
    "builtin_function_or_method",
    "instance",
    "_Feature"
   ],
   "varInspector_section_display": "none",
   "window_display": true
  }
 },
 "nbformat": 4,
 "nbformat_minor": 1
}
