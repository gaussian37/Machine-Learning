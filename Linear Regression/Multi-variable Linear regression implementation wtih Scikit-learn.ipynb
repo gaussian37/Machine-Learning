{
 "cells": [
  {
   "cell_type": "markdown",
   "metadata": {},
   "source": [
    "# The Boston Housing Dataset"
   ]
  },
  {
   "cell_type": "code",
   "execution_count": 1,
   "metadata": {},
   "outputs": [],
   "source": [
    "from sklearn.datasets import load_boston\n",
    "import numpy as np\n",
    "import matplotlib.pyplot as plt"
   ]
  },
  {
   "cell_type": "code",
   "execution_count": 3,
   "metadata": {},
   "outputs": [
    {
     "data": {
      "text/plain": [
       "sklearn.utils.Bunch"
      ]
     },
     "execution_count": 3,
     "metadata": {},
     "output_type": "execute_result"
    }
   ],
   "source": [
    "boston = load_boston()\n",
    "type(boston)"
   ]
  },
  {
   "cell_type": "markdown",
   "metadata": {},
   "source": [
    "13개의 기준(열)을 가지는 506개의 데이터 셋"
   ]
  },
  {
   "cell_type": "code",
   "execution_count": 4,
   "metadata": {},
   "outputs": [
    {
     "name": "stdout",
     "output_type": "stream",
     "text": [
      "(506, 13)\n"
     ]
    }
   ],
   "source": [
    "x_data = boston.data\n",
    "print(x_data.shape)"
   ]
  },
  {
   "cell_type": "code",
   "execution_count": 28,
   "metadata": {},
   "outputs": [
    {
     "data": {
      "text/plain": [
       "array(['CRIM', 'ZN', 'INDUS', 'CHAS', 'NOX', 'RM', 'AGE', 'DIS', 'RAD',\n",
       "       'TAX', 'PTRATIO', 'B', 'LSTAT'], dtype='<U7')"
      ]
     },
     "execution_count": 28,
     "metadata": {},
     "output_type": "execute_result"
    }
   ],
   "source": [
    "boston.feature_names"
   ]
  },
  {
   "cell_type": "code",
   "execution_count": 8,
   "metadata": {},
   "outputs": [
    {
     "name": "stdout",
     "output_type": "stream",
     "text": [
      "(506,)\n"
     ]
    }
   ],
   "source": [
    "# y_data = boston.target\n",
    "print(y_data.shape)"
   ]
  },
  {
   "cell_type": "markdown",
   "metadata": {},
   "source": [
    "scikit-learn 0.18 버전 이후는 target data Y는 2-dim을 기준으로 받게되었습니다. <br>\n",
    "따라서 (506,) → (506, 1)로 바꾸어 줍니다."
   ]
  },
  {
   "cell_type": "code",
   "execution_count": 9,
   "metadata": {},
   "outputs": [],
   "source": [
    "y_data = boston.target.reshape(boston.target.size, 1)"
   ]
  },
  {
   "cell_type": "markdown",
   "metadata": {},
   "source": [
    "## 데이터 스케일링"
   ]
  },
  {
   "cell_type": "code",
   "execution_count": 10,
   "metadata": {},
   "outputs": [],
   "source": [
    "from sklearn import preprocessing"
   ]
  },
  {
   "cell_type": "code",
   "execution_count": 15,
   "metadata": {},
   "outputs": [
    {
     "data": {
      "text/plain": [
       "array([[0.00000000e+00, 9.00000000e-01, 3.39076246e-01, 0.00000000e+00,\n",
       "        1.57407407e+00, 2.88752635e+00, 3.20803296e+00, 1.34601570e+00,\n",
       "        0.00000000e+00, 1.04007634e+00, 1.43617021e+00, 5.00000000e+00,\n",
       "        4.48399558e-01],\n",
       "       [1.17961270e-03, 0.00000000e+00, 1.21151026e+00, 0.00000000e+00,\n",
       "        8.64197531e-01, 2.73998850e+00, 3.91349125e+00, 1.74480990e+00,\n",
       "        2.17391304e-01, 5.24809160e-01, 2.76595745e+00, 5.00000000e+00,\n",
       "        1.02235099e+00],\n",
       "       [1.17848872e-03, 0.00000000e+00, 1.21151026e+00, 0.00000000e+00,\n",
       "        8.64197531e-01, 3.47192949e+00, 2.99691040e+00, 1.74480990e+00,\n",
       "        2.17391304e-01, 5.24809160e-01, 2.76595745e+00, 4.94868627e+00,\n",
       "        3.17328918e-01]])"
      ]
     },
     "execution_count": 15,
     "metadata": {},
     "output_type": "execute_result"
    }
   ],
   "source": [
    "# feature_range 범위에 맞도록 MinMaxScaling을 한다.\n",
    "minmax_scale = preprocessing.MinMaxScaler(feature_range= (0,5)).fit(x_data)\n",
    "x_scaled_data = minmax_scale.transform(x_data)\n",
    "\n",
    "x_scaled_data[:3]"
   ]
  },
  {
   "cell_type": "code",
   "execution_count": 18,
   "metadata": {},
   "outputs": [
    {
     "data": {
      "text/plain": [
       "array([[6.3200e-03, 1.8000e+01, 2.3100e+00, 0.0000e+00, 5.3800e-01,\n",
       "        6.5750e+00, 6.5200e+01, 4.0900e+00, 1.0000e+00, 2.9600e+02,\n",
       "        1.5300e+01, 3.9690e+02, 4.9800e+00],\n",
       "       [2.7310e-02, 0.0000e+00, 7.0700e+00, 0.0000e+00, 4.6900e-01,\n",
       "        6.4210e+00, 7.8900e+01, 4.9671e+00, 2.0000e+00, 2.4200e+02,\n",
       "        1.7800e+01, 3.9690e+02, 9.1400e+00],\n",
       "       [2.7290e-02, 0.0000e+00, 7.0700e+00, 0.0000e+00, 4.6900e-01,\n",
       "        7.1850e+00, 6.1100e+01, 4.9671e+00, 2.0000e+00, 2.4200e+02,\n",
       "        1.7800e+01, 3.9283e+02, 4.0300e+00]])"
      ]
     },
     "execution_count": 18,
     "metadata": {},
     "output_type": "execute_result"
    }
   ],
   "source": [
    "x_data[:3]"
   ]
  },
  {
   "cell_type": "markdown",
   "metadata": {},
   "source": [
    "## Train-Test dataset split"
   ]
  },
  {
   "cell_type": "code",
   "execution_count": 19,
   "metadata": {},
   "outputs": [],
   "source": [
    "from sklearn.model_selection import train_test_split"
   ]
  },
  {
   "cell_type": "code",
   "execution_count": 20,
   "metadata": {},
   "outputs": [],
   "source": [
    "x_train, x_test, y_train, y_test = train_test_split(x_scaled_data, y_data, test_size = 0.33)"
   ]
  },
  {
   "cell_type": "code",
   "execution_count": 22,
   "metadata": {},
   "outputs": [
    {
     "data": {
      "text/plain": [
       "((339, 13), (167, 13), (339, 1), (167, 1))"
      ]
     },
     "execution_count": 22,
     "metadata": {},
     "output_type": "execute_result"
    }
   ],
   "source": [
    "x_train.shape, x_test.shape, y_train.shape, y_test.shape"
   ]
  },
  {
   "cell_type": "markdown",
   "metadata": {},
   "source": [
    "## Linear Regression Fitting"
   ]
  },
  {
   "cell_type": "code",
   "execution_count": 23,
   "metadata": {},
   "outputs": [],
   "source": [
    "from sklearn import linear_model"
   ]
  },
  {
   "cell_type": "code",
   "execution_count": 24,
   "metadata": {},
   "outputs": [
    {
     "data": {
      "text/plain": [
       "LinearRegression(copy_X=True, fit_intercept=True, n_jobs=2, normalize=True)"
      ]
     },
     "execution_count": 24,
     "metadata": {},
     "output_type": "execute_result"
    }
   ],
   "source": [
    "# fit_intercept : w_0 유무\n",
    "# normalize : L2 Norm 사용\n",
    "# copy_X : x data를 복사한 후 복사한 값을 분석 시 사용할 지 유무, 일반적으로 복사 후 사용 (True)\n",
    "# n_jobs : 사용할 CPU 코어 갯수\n",
    "regr = linear_model.LinearRegression(fit_intercept=True, normalize= True, \n",
    "                                     copy_X = True, n_jobs=2)\n",
    "\n",
    "regr.fit(x_train, y_train)"
   ]
  },
  {
   "cell_type": "markdown",
   "metadata": {},
   "source": [
    "boston housing data set에서 weight는 총 13개가 있습니다.\n",
    "\n",
    "$ y = w_{1}x_{1} + w_{2}x_{2} + ... + w_{13}x_{13} + w_{0}\\times 1$"
   ]
  },
  {
   "cell_type": "code",
   "execution_count": 26,
   "metadata": {},
   "outputs": [
    {
     "name": "stdout",
     "output_type": "stream",
     "text": [
      "Coefficients :  [[-1.65971242  1.23159413  0.29211966  0.66153013 -1.85275679  2.90387753\n",
      "   0.2013545  -3.47999894  1.29654772 -1.01876849 -1.77799488  0.85065929\n",
      "  -4.67385144]]\n",
      "intercept :  [29.02902049]\n"
     ]
    }
   ],
   "source": [
    "# coefficient\n",
    "print(\"Coefficients : \", regr.coef_)\n",
    "print(\"intercept : \", regr.intercept_)"
   ]
  },
  {
   "cell_type": "markdown",
   "metadata": {},
   "source": [
    "13개의 Coefficient와 1개의 intercept가 각각의 w에 입력되고 x data가 입력 되었을 때 예측값을 출력합니다."
   ]
  },
  {
   "cell_type": "markdown",
   "metadata": {},
   "source": [
    "## 수식 결과 비교"
   ]
  },
  {
   "cell_type": "markdown",
   "metadata": {},
   "source": [
    "1개의 데이터만 predict 할 때 입력 값들은 matrix 형태로 입력되어야 하므로 reshape을 통하여 1-dim 을 2-dim으로 바꾸어 줍니다."
   ]
  },
  {
   "cell_type": "code",
   "execution_count": 34,
   "metadata": {},
   "outputs": [
    {
     "name": "stdout",
     "output_type": "stream",
     "text": [
      "[0.01122627 1.1        0.98973607 0.         0.47325103 1.94673309\n",
      " 3.78990731 3.10328365 1.30434783 1.36450382 3.45744681 4.69224368\n",
      " 1.48592715]\n",
      "(13,)\n"
     ]
    }
   ],
   "source": [
    "print(x_test[0])\n",
    "print(x_test[0].shape)"
   ]
  },
  {
   "cell_type": "code",
   "execution_count": 40,
   "metadata": {},
   "outputs": [
    {
     "name": "stdout",
     "output_type": "stream",
     "text": [
      "[[0.01122627]\n",
      " [1.1       ]\n",
      " [0.98973607]\n",
      " [0.        ]\n",
      " [0.47325103]\n",
      " [1.94673309]\n",
      " [3.78990731]\n",
      " [3.10328365]\n",
      " [1.30434783]\n",
      " [1.36450382]\n",
      " [3.45744681]\n",
      " [4.69224368]\n",
      " [1.48592715]]\n",
      "(1, 13)\n"
     ]
    }
   ],
   "source": [
    "print(x_test[0].reshape(-1, 1))\n",
    "print(x_test[0].reshape(1, -1).shape)"
   ]
  },
  {
   "cell_type": "markdown",
   "metadata": {},
   "source": [
    "### regr.predict와 실제 linear 값대로 선형 결합을 해주면 같은 결과가 나옵니다."
   ]
  },
  {
   "cell_type": "code",
   "execution_count": 39,
   "metadata": {},
   "outputs": [
    {
     "data": {
      "text/plain": [
       "array([[16.59442036]])"
      ]
     },
     "execution_count": 39,
     "metadata": {},
     "output_type": "execute_result"
    }
   ],
   "source": [
    "regr.predict(x_test[0].reshape(1, -1))"
   ]
  },
  {
   "cell_type": "code",
   "execution_count": 41,
   "metadata": {},
   "outputs": [
    {
     "data": {
      "text/plain": [
       "array([16.59442036])"
      ]
     },
     "execution_count": 41,
     "metadata": {},
     "output_type": "execute_result"
    }
   ],
   "source": [
    "x_test[0].dot(regr.coef_.T) + regr.intercept_"
   ]
  },
  {
   "cell_type": "code",
   "execution_count": 42,
   "metadata": {},
   "outputs": [
    {
     "data": {
      "text/plain": [
       "array([[16.59442036],\n",
       "       [12.6214814 ],\n",
       "       [ 2.87665282],\n",
       "       [26.20816207],\n",
       "       [15.3510394 ]])"
      ]
     },
     "execution_count": 42,
     "metadata": {},
     "output_type": "execute_result"
    }
   ],
   "source": [
    "regr.predict(x_test[:5])"
   ]
  },
  {
   "cell_type": "code",
   "execution_count": 43,
   "metadata": {},
   "outputs": [
    {
     "data": {
      "text/plain": [
       "array([[16.59442036],\n",
       "       [12.6214814 ],\n",
       "       [ 2.87665282],\n",
       "       [26.20816207],\n",
       "       [15.3510394 ]])"
      ]
     },
     "execution_count": 43,
     "metadata": {},
     "output_type": "execute_result"
    }
   ],
   "source": [
    "x_test[:5].dot(regr.coef_.T) + regr.intercept_"
   ]
  },
  {
   "cell_type": "markdown",
   "metadata": {},
   "source": [
    "## Metric 측정"
   ]
  },
  {
   "cell_type": "code",
   "execution_count": 45,
   "metadata": {},
   "outputs": [],
   "source": [
    "from sklearn.metrics import r2_score\n",
    "from sklearn.metrics import mean_absolute_error\n",
    "from sklearn.metrics import mean_squared_error"
   ]
  },
  {
   "cell_type": "code",
   "execution_count": 46,
   "metadata": {},
   "outputs": [
    {
     "name": "stdout",
     "output_type": "stream",
     "text": [
      "r2_score :  0.7369912902348834\n",
      "MAE :  3.4174475537144677\n",
      "MSE :  21.724471896608417\n"
     ]
    }
   ],
   "source": [
    "y_pred = regr.predict(x_test)\n",
    "print(\"r2_score : \", r2_score(y_true= y_test, y_pred= y_pred))\n",
    "print(\"MAE : \", mean_absolute_error(y_true= y_test, y_pred= y_pred))\n",
    "print(\"MSE : \", mean_squared_error(y_true= y_test, y_pred= y_pred))"
   ]
  },
  {
   "cell_type": "code",
   "execution_count": null,
   "metadata": {},
   "outputs": [],
   "source": []
  }
 ],
 "metadata": {
  "kernelspec": {
   "display_name": "Python 3",
   "language": "python",
   "name": "python3"
  },
  "language_info": {
   "codemirror_mode": {
    "name": "ipython",
    "version": 3
   },
   "file_extension": ".py",
   "mimetype": "text/x-python",
   "name": "python",
   "nbconvert_exporter": "python",
   "pygments_lexer": "ipython3",
   "version": "3.6.5"
  }
 },
 "nbformat": 4,
 "nbformat_minor": 2
}
