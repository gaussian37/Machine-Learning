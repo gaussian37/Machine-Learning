{
 "cells": [
  {
   "cell_type": "markdown",
   "metadata": {},
   "source": [
    "# Normal Equation을 이용한 Linear Regression"
   ]
  },
  {
   "cell_type": "markdown",
   "metadata": {},
   "source": [
    "먼저 One variable Linear Regression을 Normal Equation으로 최적화하는 방법을 알아보겠습니다.\n",
    "\n",
    "$ y^{(1)} = w_{0} + w_{1}x_{1}$ <br>\n",
    "$ y^{(2)} = w_{0} + w_{1}x_{2}$ <br>\n",
    "$ y^{(3)} = w_{0} + w_{1}x_{3}$ <br>\n",
    "$ y^{(4)} = w_{0} + w_{1}x_{4}$ <br>\n",
    "$ y^{(5)} = w_{0} + w_{1}x_{5}$ <br>\n",
    "\n",
    "가 있을 때 Matrix로 표현하면 다음과 같습니다. <br>\n",
    "\n",
    "$y = \\begin{bmatrix}\n",
    "y^{(1)} \\\\\n",
    "y^{(2)} \\\\\n",
    "y^{(3)} \\\\\n",
    "y^{(4)} \\\\\n",
    "y^{(5)} \\\\\n",
    "\\end{bmatrix},\n",
    "x = \\begin{bmatrix}\n",
    "1 & x^{(1)} \\\\\n",
    "1 & x^{(2)} \\\\\n",
    "1 & x^{(3)} \\\\\n",
    "1 & x^{(4)} \\\\\n",
    "1 & x^{(5)} \\\\\n",
    "\\end{bmatrix},\n",
    "w = \\begin{bmatrix}\n",
    "w_{0}\\\\\n",
    "w_{1}\\\\\n",
    "\\end{bmatrix} $\n",
    "\n",
    "$ y = Xw $\n",
    "\n",
    "다음 두가지 식을 정의 합니다. 아래 식에서 m = #data 입니다. 즉 위 예제 기준으로 5가 됩니다.<br><br>\n",
    "$\\hat{w_{0}}m + \\hat{w_{1}}\\Sigma x^{(i)} = \\Sigma y^{(i)}$ <br><br>\n",
    "$\\hat{w_{0}}\\Sigma x^{(i)} + \\hat{w_{1}}\\Sigma (x^{(i)})^{2} = \\Sigma y^{(i)}x^{(i)}$\n",
    "\n",
    "이 식을 Matrix 형태로 정리하면 다음과 같습니다 <br><br>\n",
    "\n",
    "$ \\begin{bmatrix}\n",
    "m &  \\Sigma x^{(i)} \\\\\n",
    "\\Sigma x^{(i)} & \\Sigma (x^{(i)})^{2}\n",
    "\\end{bmatrix}\n",
    "\\begin{bmatrix}\n",
    "\\hat{w_{0}}\\\\\n",
    "\\hat{w_{1}}\\\\\n",
    "\\end{bmatrix}\n",
    "= \n",
    "\\begin{bmatrix}\n",
    "\\Sigma y^{(i)} \\\\\n",
    "\\Sigma y^{(i)}x^{(i)}\n",
    "\\end{bmatrix}$ 입니다. <br><br>\n",
    "\n",
    "식의 형태를 잘 보면 \n",
    "$ \\begin{bmatrix}\n",
    "m &  \\Sigma x^{(i)} \\\\\n",
    "\\Sigma x^{(i)} & \\Sigma (x^{(i)})^{2}\n",
    "\\end{bmatrix} $는 $X^{T}X$ 식을 전개한 것과 같습니다. <br><br>\n",
    "그리고 $\\begin{bmatrix} \\Sigma y^{(i)} \\\\ \\Sigma y^{(i)}x^{(i)} \\end{bmatrix}$ 는 $X^{T}y$와 같습니다. 따라서 다음과 같이 정의됩니다. <br><br>\n",
    "$X^{T}X = \n",
    "\\begin{bmatrix}\n",
    "m &  \\Sigma x^{(i)} \\\\\n",
    "\\Sigma x^{(i)} & \\Sigma (x^{(i)})^{2}\n",
    "\\end{bmatrix},\n",
    "X^{T}y = \\begin{bmatrix}\n",
    "\\Sigma y^{(i)} \\\\\n",
    "\\Sigma y^{(i)}x^{(i)}\n",
    "\\end{bmatrix}\n",
    "$\n",
    "\n",
    "따라서 최종적으로 정리하면 <br><br>\n",
    "$ (X^{T}X)\\hat{y} =  \n",
    "\\begin{bmatrix}\n",
    "m &  \\Sigma x^{(i)} \\\\\n",
    "\\Sigma x^{(i)} & \\Sigma (x^{(i)})^{2}\n",
    "\\end{bmatrix}\n",
    "\\begin{bmatrix}\n",
    "\\hat{w_{0}}\\\\\n",
    "\\hat{w_{1}}\\\\\n",
    "\\end{bmatrix}\n",
    "= \n",
    "\\begin{bmatrix}\n",
    "\\Sigma y^{(i)} \\\\\n",
    "\\Sigma y^{(i)}x^{(i)}\n",
    "\\end{bmatrix} = X^{T}y$<br><br>\n",
    "따라서 $ (X^{T}X)\\hat{w} = X^{T}y$ 입니다.\n",
    "\n",
    "구해야 할 값은 $\\hat{y}$ 이므로 좌변의 $\\hat{y}$ 이 외의 값은 모두 우변으로 넘겨줍니다. <br><br>\n",
    "## $\\hat{w} = (X^{T}X)^{-1}X^{T}y$\n",
    "\n",
    "Shape을 계산해 보면, <br>\n",
    "예를 들어 Multi-variable Linear Regression일 때, #Variable = 5 이고 #Data = 100 이면 <br>\n",
    "(5, 100) X (100,5) X (5, 100) X (100, 1) = <br>\n",
    "(5, 5) X (5, 100) X (100, 1) = <br>\n",
    "(5, 100) X (100, 1) = (5, 1) 이 됩니다. 즉 W 의 shape이 됩니다.\n"
   ]
  },
  {
   "cell_type": "markdown",
   "metadata": {},
   "source": [
    "### 예제\n",
    "\n",
    "X = number of claims <br>\n",
    "Y = total payment for all the claims in thousands of Swedish Kronor"
   ]
  },
  {
   "cell_type": "code",
   "execution_count": 6,
   "metadata": {},
   "outputs": [],
   "source": [
    "import numpy as np\n",
    "import pandas as pd\n",
    "import matplotlib.pyplot as plt"
   ]
  },
  {
   "cell_type": "code",
   "execution_count": 3,
   "metadata": {},
   "outputs": [
    {
     "name": "stdout",
     "output_type": "stream",
     "text": [
      "63 number of data\n"
     ]
    },
    {
     "data": {
      "text/html": [
       "<div>\n",
       "<style scoped>\n",
       "    .dataframe tbody tr th:only-of-type {\n",
       "        vertical-align: middle;\n",
       "    }\n",
       "\n",
       "    .dataframe tbody tr th {\n",
       "        vertical-align: top;\n",
       "    }\n",
       "\n",
       "    .dataframe thead th {\n",
       "        text-align: right;\n",
       "    }\n",
       "</style>\n",
       "<table border=\"1\" class=\"dataframe\">\n",
       "  <thead>\n",
       "    <tr style=\"text-align: right;\">\n",
       "      <th></th>\n",
       "      <th>X</th>\n",
       "      <th>Y</th>\n",
       "    </tr>\n",
       "  </thead>\n",
       "  <tbody>\n",
       "    <tr>\n",
       "      <th>0</th>\n",
       "      <td>108</td>\n",
       "      <td>392.5</td>\n",
       "    </tr>\n",
       "    <tr>\n",
       "      <th>1</th>\n",
       "      <td>19</td>\n",
       "      <td>46.2</td>\n",
       "    </tr>\n",
       "    <tr>\n",
       "      <th>2</th>\n",
       "      <td>13</td>\n",
       "      <td>15.7</td>\n",
       "    </tr>\n",
       "    <tr>\n",
       "      <th>3</th>\n",
       "      <td>124</td>\n",
       "      <td>422.2</td>\n",
       "    </tr>\n",
       "    <tr>\n",
       "      <th>4</th>\n",
       "      <td>40</td>\n",
       "      <td>119.4</td>\n",
       "    </tr>\n",
       "  </tbody>\n",
       "</table>\n",
       "</div>"
      ],
      "text/plain": [
       "     X      Y\n",
       "0  108  392.5\n",
       "1   19   46.2\n",
       "2   13   15.7\n",
       "3  124  422.2\n",
       "4   40  119.4"
      ]
     },
     "execution_count": 3,
     "metadata": {},
     "output_type": "execute_result"
    }
   ],
   "source": [
    "df = pd.read_csv('data/slr06.csv')\n",
    "print(str(len(df)) + \" number of data\")\n",
    "df.head()"
   ]
  },
  {
   "cell_type": "code",
   "execution_count": 4,
   "metadata": {},
   "outputs": [
    {
     "name": "stdout",
     "output_type": "stream",
     "text": [
      "(63,)\n",
      "(63, 1)\n"
     ]
    }
   ],
   "source": [
    "raw_x = df[\"X\"].values.reshape(-1, 1)\n",
    "y = df[\"Y\"].values\n",
    "print(df[\"X\"].shape)\n",
    "print(raw_x.shape)"
   ]
  },
  {
   "cell_type": "code",
   "execution_count": 7,
   "metadata": {},
   "outputs": [
    {
     "data": {
      "text/plain": [
       "[<matplotlib.lines.Line2D at 0x1549fc8cdd8>]"
      ]
     },
     "execution_count": 7,
     "metadata": {},
     "output_type": "execute_result"
    },
    {
     "data": {
      "image/png": "[encoded data removed]",
      "text/plain": [
       "<Figure size 720x360 with 1 Axes>"
      ]
     },
     "metadata": {},
     "output_type": "display_data"
    }
   ],
   "source": [
    "plt.figure(figsize=(10, 5))\n",
    "plt.plot(raw_x, y, 'o', alpha = 0.5)"
   ]
  },
  {
   "cell_type": "markdown",
   "metadata": {},
   "source": [
    "상수항과 x값을 합하여 입력 데이터 X를 만들어 줍니다."
   ]
  },
  {
   "cell_type": "code",
   "execution_count": 8,
   "metadata": {},
   "outputs": [
    {
     "data": {
      "text/plain": [
       "array([[  1., 108.],\n",
       "       [  1.,  19.],\n",
       "       [  1.,  13.],\n",
       "       [  1., 124.],\n",
       "       [  1.,  40.]])"
      ]
     },
     "execution_count": 8,
     "metadata": {},
     "output_type": "execute_result"
    }
   ],
   "source": [
    "X = np.concatenate( (np.ones((len(raw_x), 1)), raw_x), axis = 1)\n",
    "X[:5]"
   ]
  },
  {
   "cell_type": "markdown",
   "metadata": {},
   "source": [
    "## $\\hat{w} = (X^{T}X)^{-1}X^{T}y$"
   ]
  },
  {
   "cell_type": "code",
   "execution_count": 25,
   "metadata": {},
   "outputs": [],
   "source": [
    "w = np.dot(np.dot( np.linalg.inv( np.dot(X.T, X) ),X.T),y)"
   ]
  },
  {
   "cell_type": "code",
   "execution_count": 26,
   "metadata": {},
   "outputs": [
    {
     "name": "stdout",
     "output_type": "stream",
     "text": [
      "[19.99448576  3.41382356]\n"
     ]
    }
   ],
   "source": [
    "print(w)"
   ]
  },
  {
   "cell_type": "code",
   "execution_count": 35,
   "metadata": {},
   "outputs": [
    {
     "data": {
      "image/png": "[encoded data removed]",
      "text/plain": [
       "<Figure size 720x360 with 1 Axes>"
      ]
     },
     "metadata": {},
     "output_type": "display_data"
    }
   ],
   "source": [
    "plt.figure(figsize=(10, 5))\n",
    "plt.plot(raw_x, y, 'o', alpha = 0.5)\n",
    "plt.plot(raw_x, np.dot(X,w))\n",
    "plt.show()"
   ]
  }
 ],
 "metadata": {
  "kernelspec": {
   "display_name": "Python 3",
   "language": "python",
   "name": "python3"
  },
  "language_info": {
   "codemirror_mode": {
    "name": "ipython",
    "version": 3
   },
   "file_extension": ".py",
   "mimetype": "text/x-python",
   "name": "python",
   "nbconvert_exporter": "python",
   "pygments_lexer": "ipython3",
   "version": "3.6.5"
  }
 },
 "nbformat": 4,
 "nbformat_minor": 2
}
